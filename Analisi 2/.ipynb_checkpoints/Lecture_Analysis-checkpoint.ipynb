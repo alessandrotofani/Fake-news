{
 "cells": [
  {
   "cell_type": "code",
   "execution_count": 1,
   "metadata": {},
   "outputs": [
    {
     "name": "stdout",
     "output_type": "stream",
     "text": [
      "Populating the interactive namespace from numpy and matplotlib\n"
     ]
    }
   ],
   "source": [
    "import networkx as nx\n",
    "import seaborn as sns\n",
    "import pandas as pd\n",
    "import glob\n",
    "import ast\n",
    "\n",
    "%pylab inline"
   ]
  },
  {
   "cell_type": "code",
   "execution_count": 2,
   "metadata": {},
   "outputs": [],
   "source": [
    "filepath = r\"C:\\Users\\Alessandro\\snap_github\\Fake-news\\Analisi 2\" # use your path\n",
    "all_files = glob.glob(filepath + \"/*.txt\")\n",
    "G = {}\n",
    "j = 0\n",
    "\n",
    "for filename in all_files:\n",
    "    G[j]=nx.DiGraph()\n",
    "    fh=open(filename,'r')\n",
    "    for i, line in enumerate(fh):\n",
    "        s=line.strip()\n",
    "        s=s.strip(\";\").split()\n",
    "        if (i>6) and (s[0] != 'label') and (s[0] != '}') and (s[1] != '[style=filled,'):\n",
    "            origin=int(s[0])\n",
    "            dest=int(s[2])\n",
    "            G[j].add_edge(origin,dest)\n",
    "    fh.close()\n",
    "    j += 1"
   ]
  },
  {
   "cell_type": "code",
   "execution_count": 3,
   "metadata": {},
   "outputs": [
    {
     "name": "stdout",
     "output_type": "stream",
     "text": [
      "The network has 10000 nodes and 1112332 links.\n",
      "The network has 100000 nodes and 2383643 links.\n",
      "The network has 100000 nodes and 1388285 links.\n",
      "The network has 100000 nodes and 601865 links.\n",
      "The network has 100000 nodes and 456644 links.\n"
     ]
    }
   ],
   "source": [
    "for i in range (len(G)):\n",
    "    print('The network has', len(G[i]), 'nodes and', len(G[i].edges()), 'links.')"
   ]
  },
  {
   "cell_type": "code",
   "execution_count": 4,
   "metadata": {},
   "outputs": [
    {
     "name": "stdout",
     "output_type": "stream",
     "text": [
      "Is the graph simply connected? False\n",
      "Is the graph simply connected? False\n",
      "Is the graph simply connected? False\n",
      "Is the graph simply connected? False\n",
      "Is the graph simply connected? False\n"
     ]
    }
   ],
   "source": [
    "for i in range (len(G)):\n",
    "    print(\"Is the graph simply connected?\", nx.is_strongly_connected(G[i]))"
   ]
  },
  {
   "cell_type": "markdown",
   "metadata": {},
   "source": [
    "### Show the components of the graph"
   ]
  },
  {
   "cell_type": "code",
   "execution_count": 5,
   "metadata": {},
   "outputs": [
    {
     "name": "stdout",
     "output_type": "stream",
     "text": [
      "The graph has 8821 connected components\n",
      "The graph has 100000 connected components\n",
      "The graph has 100000 connected components\n",
      "The graph has 99441 connected components\n",
      "The graph has 100000 connected components\n"
     ]
    }
   ],
   "source": [
    "for i in range (len(G)):\n",
    "    print(\"The graph has\", nx.number_strongly_connected_components(G[i]),\"connected components\")"
   ]
  },
  {
   "cell_type": "markdown",
   "metadata": {},
   "source": [
    "### Extract the largest Connected Component as a subgraph"
   ]
  },
  {
   "cell_type": "code",
   "execution_count": 6,
   "metadata": {},
   "outputs": [
    {
     "data": {
      "text/plain": [
       "5"
      ]
     },
     "execution_count": 6,
     "metadata": {},
     "output_type": "execute_result"
    }
   ],
   "source": [
    "len(G)"
   ]
  },
  {
   "cell_type": "code",
   "execution_count": 7,
   "metadata": {},
   "outputs": [],
   "source": [
    "graphs = {}\n",
    "\n",
    "for i in range (len(G)):\n",
    "    graphs[i] = []\n",
    "    for c in nx.strongly_connected_components(G[i]):\n",
    "        graphs[i].append(G[i].subgraph(c))"
   ]
  },
  {
   "cell_type": "code",
   "execution_count": 8,
   "metadata": {},
   "outputs": [],
   "source": [
    "H = {}\n",
    "\n",
    "for i in range (len(G)):\n",
    "    H[i] = graphs[i][0]"
   ]
  },
  {
   "cell_type": "code",
   "execution_count": 9,
   "metadata": {},
   "outputs": [
    {
     "name": "stdout",
     "output_type": "stream",
     "text": [
      "1180\n",
      "1\n",
      "1\n",
      "1\n",
      "1\n"
     ]
    }
   ],
   "source": [
    "for i in range (len(G)):\n",
    "    print(len(H[i]))"
   ]
  },
  {
   "cell_type": "code",
   "execution_count": 10,
   "metadata": {},
   "outputs": [
    {
     "name": "stdout",
     "output_type": "stream",
     "text": [
      "8820\n",
      "99999\n",
      "99999\n",
      "99999\n",
      "99999\n"
     ]
    }
   ],
   "source": [
    "for i in range (len(G)):\n",
    "    print(len(G[i])-len(H[i]))"
   ]
  },
  {
   "cell_type": "code",
   "execution_count": 11,
   "metadata": {},
   "outputs": [
    {
     "name": "stdout",
     "output_type": "stream",
     "text": [
      "Check that the graph is now connected\n",
      "1\n",
      "Check that the graph is now connected\n",
      "1\n",
      "Check that the graph is now connected\n",
      "1\n",
      "Check that the graph is now connected\n",
      "1\n",
      "Check that the graph is now connected\n",
      "1\n"
     ]
    }
   ],
   "source": [
    "for i in range (len(G)):\n",
    "    print(\"Check that the graph is now connected\")\n",
    "    print(nx.number_strongly_connected_components(H[i]))"
   ]
  },
  {
   "cell_type": "markdown",
   "metadata": {},
   "source": [
    "## Clustering"
   ]
  },
  {
   "cell_type": "code",
   "execution_count": 12,
   "metadata": {},
   "outputs": [],
   "source": [
    "files = glob.glob(filepath + \"/*.csv\")\n",
    "dataset = {}\n",
    "j = 0\n",
    "\n",
    "for filename in files:\n",
    "    dataset[j] = pd.read_csv(filename, encoding=\"utf8\")\n",
    "    j += 1"
   ]
  },
  {
   "cell_type": "code",
   "execution_count": 13,
   "metadata": {},
   "outputs": [
    {
     "name": "stdout",
     "output_type": "stream",
     "text": [
      "<bound method NDFrame.head of        id_autore agent_type     score\n",
      "0           1229     voters  0.280605\n",
      "1           8823     voters  0.741595\n",
      "2           4920     voters  0.605461\n",
      "3           5246     voters  0.672849\n",
      "4           1689     voters  0.280449\n",
      "...          ...        ...       ...\n",
      "9996        9298     voters  0.837590\n",
      "9997        8912     voters  0.735241\n",
      "9998        8450     voters  0.794044\n",
      "9999         707     voters  0.125856\n",
      "10000        285     voters  0.145123\n",
      "\n",
      "[10001 rows x 3 columns]>\n",
      "<bound method NDFrame.head of         id_autore agent_type     score\n",
      "0           88523     voters  0.736146\n",
      "1           51955     voters  0.602307\n",
      "2           55537     voters  0.640460\n",
      "3           94187     voters  0.891745\n",
      "4           94506     voters  0.880393\n",
      "...           ...        ...       ...\n",
      "99996       49057     voters  0.572560\n",
      "99997       32908     voters  0.493880\n",
      "99998       53172     voters  0.564261\n",
      "99999       96044  left_bots  0.860026\n",
      "100000      23127     voters  0.503699\n",
      "\n",
      "[100001 rows x 3 columns]>\n",
      "<bound method NDFrame.head of         id_autore agent_type     score\n",
      "0           88943     voters  0.713372\n",
      "1           21497     voters  0.338243\n",
      "2           60405     voters  0.676363\n",
      "3           48973     voters  0.563186\n",
      "4           23072     voters  0.495429\n",
      "...           ...        ...       ...\n",
      "99996        5909     voters  0.157700\n",
      "99997       15831     voters  0.209528\n",
      "99998        5685     voters  0.171275\n",
      "99999       30652     voters  0.477242\n",
      "100000      48276     voters  0.596552\n",
      "\n",
      "[100001 rows x 3 columns]>\n",
      "<bound method NDFrame.head of         id_autore agent_type     score\n",
      "0            9776     voters  0.232898\n",
      "1           22206     voters  0.340967\n",
      "2           77630     voters  0.718630\n",
      "3           31158     voters  0.548540\n",
      "4           91675     voters  0.843927\n",
      "...           ...        ...       ...\n",
      "99996       69968     voters  0.671305\n",
      "99997       28978     voters  0.512443\n",
      "99998       10424     voters  0.225283\n",
      "99999       50628     voters  0.571779\n",
      "100000      84799     voters  0.723425\n",
      "\n",
      "[100001 rows x 3 columns]>\n",
      "<bound method NDFrame.head of         id_autore agent_type     score\n",
      "0           70695     voters  0.557074\n",
      "1           81410     voters  0.749230\n",
      "2           73352     voters  0.676719\n",
      "3           41249     voters  0.549012\n",
      "4           63863     voters  0.617716\n",
      "...           ...        ...       ...\n",
      "99996       14270     voters  0.298061\n",
      "99997       82091     voters  0.780223\n",
      "99998       87939     voters  0.735244\n",
      "99999       73765     voters  0.624419\n",
      "100000      22487     voters  0.433436\n",
      "\n",
      "[100001 rows x 3 columns]>\n"
     ]
    }
   ],
   "source": [
    "for i in range(len(dataset)):\n",
    "    print(dataset[i].head)"
   ]
  },
  {
   "cell_type": "code",
   "execution_count": 14,
   "metadata": {},
   "outputs": [
    {
     "data": {
      "text/plain": [
       "0        0.280605\n",
       "1        0.741595\n",
       "2        0.605461\n",
       "3        0.672849\n",
       "4        0.280449\n",
       "           ...   \n",
       "9996     0.837590\n",
       "9997     0.735241\n",
       "9998     0.794044\n",
       "9999     0.125856\n",
       "10000    0.145123\n",
       "Name: score, Length: 10001, dtype: float64"
      ]
     },
     "execution_count": 14,
     "metadata": {},
     "output_type": "execute_result"
    }
   ],
   "source": [
    "dataset[0]['score']"
   ]
  },
  {
   "cell_type": "code",
   "execution_count": 15,
   "metadata": {},
   "outputs": [],
   "source": [
    "N_nodes = {}\n",
    "N_edges = {}\n",
    "\n",
    "for j in range (len(G)):\n",
    "    N_nodes[str(j)] = [0]*8\n",
    "    N_edges[str(j)] = [0]*8\n",
    "    \n",
    "    for i in range (len(dataset[j])):\n",
    "        if dataset[j]['score'][i] < 0.1:\n",
    "            N_nodes[str(j)][0] += 1\n",
    "            N_edges[str(j)][0] += G[j].out_degree(dataset[j]['id_autore'][i])\n",
    "        if (dataset[j]['score'][i] < 0.2) and (dataset[j]['score'][i] > 0.1):\n",
    "            N_nodes[str(j)][1] += 1\n",
    "            N_edges[str(j)][1] += G[j].out_degree(dataset[j]['id_autore'][i])\n",
    "        if (dataset[j]['score'][i] < 0.3) and (dataset[j]['score'][i] > 0.2):\n",
    "            N_nodes[str(j)][2] += 1\n",
    "            N_edges[str(j)][2] += G[j].out_degree(dataset[j]['id_autore'][i])\n",
    "        if (dataset[j]['score'][i] < 0.45) and (dataset[j]['score'][i] > 0.3):\n",
    "            N_nodes[str(j)][3] += 1\n",
    "            N_edges[str(j)][3] += G[j].out_degree(dataset[j]['id_autore'][i])\n",
    "        if (dataset[j]['score'][i] < 0.55) and (dataset[j]['score'][i] > 0.45):\n",
    "            N_nodes[str(j)][4] += 1\n",
    "            N_edges[str(j)][4] += G[j].out_degree(dataset[j]['id_autore'][i])\n",
    "        if (dataset[j]['score'][i] < 0.7) and (dataset[j]['score'][i] > 0.55):\n",
    "            N_nodes[str(j)][5] += 1\n",
    "            N_edges[str(j)][5] += G[j].out_degree(dataset[j]['id_autore'][i])\n",
    "        if (dataset[j]['score'][i] < 0.8) and (dataset[j]['score'][i] > 0.7):\n",
    "            N_nodes[str(j)][6] += 1\n",
    "            N_edges[str(j)][6] += G[j].out_degree(dataset[j]['id_autore'][i])\n",
    "        if (dataset[j]['score'][i] < 0.9) and (dataset[j]['score'][i] > 0.8):\n",
    "            N_nodes[str(j)][7] += 1\n",
    "            N_edges[str(j)][7] += G[j].out_degree(dataset[j]['id_autore'][i])"
   ]
  },
  {
   "cell_type": "code",
   "execution_count": 16,
   "metadata": {},
   "outputs": [
    {
     "name": "stdout",
     "output_type": "stream",
     "text": [
      "\n",
      "\n",
      "The  1  K_mean value is:  129.0344827586207\n",
      "The  2  K_mean value is:  20.0\n",
      "The  3  K_mean value is:  26.69675925925926\n",
      "The  4  K_mean value is:  39.0991452991453\n",
      "The  5  K_mean value is:  55.92367458866545\n",
      "The  6  K_mean value is:  125.95221843003414\n",
      "The  7  K_mean value is:  168.0534255185418\n",
      "The  8  K_mean value is:  316.06733524355303\n",
      "\n",
      "\n",
      "The  1  K_mean value is:  34.93508728792722\n",
      "The  2  K_mean value is:  7.723009650180941\n",
      "The  3  K_mean value is:  10.335731668606497\n",
      "The  4  K_mean value is:  13.783215578149234\n",
      "The  5  K_mean value is:  18.213679792838647\n",
      "The  6  K_mean value is:  27.807455329636475\n",
      "The  7  K_mean value is:  30.599807073954985\n",
      "The  8  K_mean value is:  45.80944767441861\n",
      "\n",
      "\n",
      "The  1  K_mean value is:  15.970424671385238\n",
      "The  2  K_mean value is:  7.067024929093894\n",
      "The  3  K_mean value is:  9.368125\n",
      "The  4  K_mean value is:  9.914157147802008\n",
      "The  5  K_mean value is:  12.138188446682001\n",
      "The  6  K_mean value is:  15.905900728913572\n",
      "The  7  K_mean value is:  16.9072265625\n",
      "The  8  K_mean value is:  19.672339795767353\n",
      "\n",
      "\n",
      "The  1  K_mean value is:  7.119795471146823\n",
      "The  2  K_mean value is:  4.685623774324936\n",
      "The  3  K_mean value is:  5.42592204526404\n",
      "The  4  K_mean value is:  5.636631944444445\n",
      "The  5  K_mean value is:  5.83843249576878\n",
      "The  6  K_mean value is:  6.165480365265095\n",
      "The  7  K_mean value is:  6.564973958333334\n",
      "The  8  K_mean value is:  6.565931626461447\n",
      "\n",
      "\n",
      "The  1  K_mean value is:  4.329870787940208\n",
      "The  2  K_mean value is:  3.865984038548411\n",
      "The  3  K_mean value is:  4.361321047727508\n",
      "The  4  K_mean value is:  4.475565532723191\n",
      "The  5  K_mean value is:  4.44752724588598\n",
      "The  6  K_mean value is:  4.616874327560476\n",
      "The  7  K_mean value is:  4.773857570628825\n",
      "The  8  K_mean value is:  5.482166642000888\n"
     ]
    }
   ],
   "source": [
    "K_mean = {}\n",
    "voters_type = 8\n",
    "\n",
    "for j in range (len(G)):\n",
    "    K_mean[str(j)] = []\n",
    "    print('\\n')\n",
    "    for i in range (voters_type):\n",
    "        K_mean[str(j)].append(N_edges[str(j)][i]/N_nodes[str(j)][i])\n",
    "        print(\"The \", i+1, \" K_mean value is: \",K_mean[str(j)][i])"
   ]
  }
 ],
 "metadata": {
  "kernelspec": {
   "display_name": "Python 3",
   "language": "python",
   "name": "python3"
  },
  "language_info": {
   "codemirror_mode": {
    "name": "ipython",
    "version": 3
   },
   "file_extension": ".py",
   "mimetype": "text/x-python",
   "name": "python",
   "nbconvert_exporter": "python",
   "pygments_lexer": "ipython3",
   "version": "3.7.6"
  }
 },
 "nbformat": 4,
 "nbformat_minor": 2
}
