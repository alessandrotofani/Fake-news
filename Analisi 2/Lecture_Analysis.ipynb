{
 "cells": [
  {
   "cell_type": "code",
   "execution_count": 1,
   "metadata": {},
   "outputs": [
    {
     "name": "stdout",
     "output_type": "stream",
     "text": [
      "Populating the interactive namespace from numpy and matplotlib\n"
     ]
    }
   ],
   "source": [
    "import networkx as nx\n",
    "import seaborn as sns\n",
    "import pandas as pd\n",
    "import glob\n",
    "import ast\n",
    "\n",
    "%pylab inline"
   ]
  },
  {
   "cell_type": "code",
   "execution_count": 2,
   "metadata": {},
   "outputs": [],
   "source": [
    "filepath = r\"C:\\Users\\Alessandro\\snap_github\\Fake-news\\Analisi 2\" # use your path\n",
    "all_files = glob.glob(filepath + \"/*.txt\")\n",
    "G = {}\n",
    "j = 0\n",
    "\n",
    "for filename in all_files:\n",
    "    G[j]=nx.DiGraph()\n",
    "    fh=open(filename,'r')\n",
    "    for i, line in enumerate(fh):\n",
    "        s=line.strip()\n",
    "        s=s.strip(\";\").split()\n",
    "        if (i>6) and (s[0] != 'label') and (s[0] != '}') and (s[1] != '[style=filled,'):\n",
    "            origin=int(s[0])\n",
    "            dest=int(s[2])\n",
    "            G[j].add_edge(origin,dest)\n",
    "    fh.close()\n",
    "    j += 1"
   ]
  },
  {
   "cell_type": "code",
   "execution_count": 3,
   "metadata": {
    "scrolled": false
   },
   "outputs": [
    {
     "name": "stdout",
     "output_type": "stream",
     "text": [
      "The network has 100000 nodes and 2944525 links.\n",
      "The network has 42701 nodes and 156587 links.\n"
     ]
    }
   ],
   "source": [
    "for i in range (len(G)):\n",
    "    print('The network has', len(G[i]), 'nodes and', len(G[i].edges()), 'links.')"
   ]
  },
  {
   "cell_type": "code",
   "execution_count": 4,
   "metadata": {},
   "outputs": [],
   "source": [
    "# for i in range (len(G)):\n",
    "#     print(\"Is the graph simply connected?\", nx.is_strongly_connected(G[i]))"
   ]
  },
  {
   "cell_type": "markdown",
   "metadata": {},
   "source": [
    "### Show the components of the graph"
   ]
  },
  {
   "cell_type": "code",
   "execution_count": 5,
   "metadata": {},
   "outputs": [],
   "source": [
    "# for i in range (len(G)):\n",
    "#     print(\"The graph has\", nx.number_strongly_connected_components(G[i]),\"connected components\")"
   ]
  },
  {
   "cell_type": "markdown",
   "metadata": {},
   "source": [
    "### Extract the largest Connected Component as a subgraph"
   ]
  },
  {
   "cell_type": "code",
   "execution_count": 6,
   "metadata": {},
   "outputs": [
    {
     "data": {
      "text/plain": [
       "2"
      ]
     },
     "execution_count": 6,
     "metadata": {},
     "output_type": "execute_result"
    }
   ],
   "source": [
    "len(G)"
   ]
  },
  {
   "cell_type": "code",
   "execution_count": 7,
   "metadata": {},
   "outputs": [],
   "source": [
    "graphs = {}\n",
    "\n",
    "for i in range (len(G)):\n",
    "    graphs[i] = []\n",
    "    for c in nx.strongly_connected_components(G[i]):\n",
    "        graphs[i].append(G[i].subgraph(c))"
   ]
  },
  {
   "cell_type": "code",
   "execution_count": 8,
   "metadata": {},
   "outputs": [],
   "source": [
    "H = {}\n",
    "\n",
    "for i in range (len(G)):\n",
    "    H[i] = graphs[i][0]"
   ]
  },
  {
   "cell_type": "code",
   "execution_count": 9,
   "metadata": {},
   "outputs": [
    {
     "name": "stdout",
     "output_type": "stream",
     "text": [
      "1\n",
      "1\n"
     ]
    }
   ],
   "source": [
    "for i in range (len(G)):\n",
    "    print(len(H[i]))"
   ]
  },
  {
   "cell_type": "code",
   "execution_count": 10,
   "metadata": {},
   "outputs": [
    {
     "name": "stdout",
     "output_type": "stream",
     "text": [
      "99999\n",
      "42700\n"
     ]
    }
   ],
   "source": [
    "for i in range (len(G)):\n",
    "    print(len(G[i])-len(H[i]))"
   ]
  },
  {
   "cell_type": "code",
   "execution_count": 11,
   "metadata": {},
   "outputs": [
    {
     "name": "stdout",
     "output_type": "stream",
     "text": [
      "Check that the graph is now connected\n",
      "1\n",
      "Check that the graph is now connected\n",
      "1\n"
     ]
    }
   ],
   "source": [
    "for i in range (len(G)):\n",
    "    print(\"Check that the graph is now connected\")\n",
    "    print(nx.number_strongly_connected_components(H[i]))"
   ]
  },
  {
   "cell_type": "markdown",
   "metadata": {},
   "source": [
    "## Clustering"
   ]
  },
  {
   "cell_type": "code",
   "execution_count": 12,
   "metadata": {},
   "outputs": [],
   "source": [
    "files = glob.glob(filepath + \"/*.csv\")\n",
    "dataset = {}\n",
    "j = 0\n",
    "\n",
    "for filename in files:\n",
    "    dataset[j] = pd.read_csv(filename, encoding=\"utf8\")\n",
    "    j += 1"
   ]
  },
  {
   "cell_type": "code",
   "execution_count": 13,
   "metadata": {},
   "outputs": [
    {
     "name": "stdout",
     "output_type": "stream",
     "text": [
      "<bound method NDFrame.head of         id_autore agent_type     score\n",
      "0           60959     voters  0.658686\n",
      "1           22767     voters  0.441284\n",
      "2           64043     voters  0.613115\n",
      "3           95833     voters  0.843102\n",
      "4           10143     voters  0.269884\n",
      "...           ...        ...       ...\n",
      "99996       13863     voters  0.234547\n",
      "99997       52594     voters  0.673437\n",
      "99998       35775     voters  0.448182\n",
      "99999       56375     voters  0.579435\n",
      "100000      29253     voters  0.493515\n",
      "\n",
      "[100001 rows x 3 columns]>\n",
      "<bound method NDFrame.head of         id_autore agent_type     score\n",
      "0           52360     voters  0.648612\n",
      "1           87070     voters  0.767800\n",
      "2           63322     voters  0.594184\n",
      "3           27913     voters  0.498304\n",
      "4           69034     voters  0.629343\n",
      "...           ...        ...       ...\n",
      "99996       61707     voters  0.610583\n",
      "99997       49744     voters  0.667818\n",
      "99998       19088     voters  0.326325\n",
      "99999       92206     voters  0.838720\n",
      "100000      61455     voters  0.654965\n",
      "\n",
      "[100001 rows x 3 columns]>\n"
     ]
    }
   ],
   "source": [
    "for i in range(len(dataset)):\n",
    "    print(dataset[i].head)"
   ]
  },
  {
   "cell_type": "code",
   "execution_count": 18,
   "metadata": {},
   "outputs": [],
   "source": [
    "N_nodes = {}\n",
    "N_edges = {}\n",
    "\n",
    "for j in range (len(G)):\n",
    "    N_nodes[str(j)] = [0]*8\n",
    "    N_edges[str(j)] = [0]*8\n",
    "    \n",
    "    for i in range (len(dataset[j])):\n",
    "        if G[1].has_node(dataset[j]['id_autore'][i]):\n",
    "            if dataset[j]['score'][i] < 0.1:\n",
    "                N_nodes[str(j)][0] += 1\n",
    "                N_edges[str(j)][0] += G[1].in_degree(dataset[j]['id_autore'][i]) \n",
    "            if (dataset[j]['score'][i] < 0.2) and (dataset[j]['score'][i] > 0.1):\n",
    "                N_nodes[str(j)][1] += 1\n",
    "                N_edges[str(j)][1] += G[1].in_degree(dataset[j]['id_autore'][i])\n",
    "            if (dataset[j]['score'][i] < 0.3) and (dataset[j]['score'][i] > 0.2):\n",
    "                N_nodes[str(j)][2] += 1\n",
    "                N_edges[str(j)][2] += G[1].in_degree(dataset[j]['id_autore'][i])\n",
    "            if (dataset[j]['score'][i] < 0.45) and (dataset[j]['score'][i] > 0.3):\n",
    "                N_nodes[str(j)][3] += 1\n",
    "                N_edges[str(j)][3] += G[1].in_degree(dataset[j]['id_autore'][i])\n",
    "            if (dataset[j]['score'][i] < 0.55) and (dataset[j]['score'][i] > 0.45):\n",
    "                N_nodes[str(j)][4] += 1\n",
    "                N_edges[str(j)][4] += G[1].in_degree(dataset[j]['id_autore'][i])\n",
    "            if (dataset[j]['score'][i] < 0.7) and (dataset[j]['score'][i] > 0.55):\n",
    "                N_nodes[str(j)][5] += 1\n",
    "                N_edges[str(j)][5] += G[1].in_degree(dataset[j]['id_autore'][i]) \n",
    "            if (dataset[j]['score'][i] < 0.8) and (dataset[j]['score'][i] > 0.7):\n",
    "                N_nodes[str(j)][6] += 1\n",
    "                N_edges[str(j)][6] += G[1].in_degree(dataset[j]['id_autore'][i]) \n",
    "            if (dataset[j]['score'][i] < 0.9) and (dataset[j]['score'][i] > 0.8):\n",
    "                N_nodes[str(j)][7] += 1\n",
    "                N_edges[str(j)][7] += G[1].degree(dataset[j]['id_autore'][i]) "
   ]
  },
  {
   "cell_type": "code",
   "execution_count": 19,
   "metadata": {},
   "outputs": [
    {
     "name": "stdout",
     "output_type": "stream",
     "text": [
      "\n",
      "\n",
      "The  1  K_mean value is:  9.145205479452056\n",
      "The  2  K_mean value is:  4.924941360437842\n",
      "The  3  K_mean value is:  3.5275813295615275\n",
      "The  4  K_mean value is:  3.3829886125958635\n",
      "The  5  K_mean value is:  3.3017288586403817\n",
      "The  6  K_mean value is:  3.074878717570133\n",
      "The  7  K_mean value is:  2.0\n",
      "The  8  K_mean value is:  36762.0\n",
      "\n",
      "\n",
      "The  1  K_mean value is:  9.638541666666667\n",
      "The  2  K_mean value is:  4.9888312096901055\n",
      "The  3  K_mean value is:  3.5210786175465247\n",
      "The  4  K_mean value is:  3.39647577092511\n",
      "The  5  K_mean value is:  3.296073439790172\n",
      "The  6  K_mean value is:  3.079686684073107\n",
      "The  7  K_mean value is:  1.9988385598141696\n",
      "The  8  K_mean value is:  36762.0\n"
     ]
    }
   ],
   "source": [
    "K_mean = {}\n",
    "voters_type = 8\n",
    "\n",
    "for j in range (len(G)):\n",
    "    K_mean[str(j)] = []\n",
    "    print('\\n')\n",
    "    for i in range (voters_type):\n",
    "        K_mean[str(j)].append(N_edges[str(j)][i]/N_nodes[str(j)][i])\n",
    "        print(\"The \", i+1, \" K_mean value is: \",K_mean[str(j)][i])"
   ]
  },
  {
   "cell_type": "code",
   "execution_count": null,
   "metadata": {},
   "outputs": [],
   "source": []
  }
 ],
 "metadata": {
  "kernelspec": {
   "display_name": "Python 3",
   "language": "python",
   "name": "python3"
  },
  "language_info": {
   "codemirror_mode": {
    "name": "ipython",
    "version": 3
   },
   "file_extension": ".py",
   "mimetype": "text/x-python",
   "name": "python",
   "nbconvert_exporter": "python",
   "pygments_lexer": "ipython3",
   "version": "3.7.6"
  }
 },
 "nbformat": 4,
 "nbformat_minor": 2
}
