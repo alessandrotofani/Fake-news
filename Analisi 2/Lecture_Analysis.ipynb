{
 "cells": [
  {
   "cell_type": "code",
   "execution_count": 1,
   "metadata": {},
   "outputs": [
    {
     "name": "stdout",
     "output_type": "stream",
     "text": [
      "Populating the interactive namespace from numpy and matplotlib\n"
     ]
    }
   ],
   "source": [
    "import networkx as nx\n",
    "import seaborn as sns\n",
    "import pandas as pd\n",
    "import glob\n",
    "import ast\n",
    "\n",
    "%pylab inline"
   ]
  },
  {
   "cell_type": "code",
   "execution_count": 2,
   "metadata": {},
   "outputs": [],
   "source": [
    "filepath = r\"C:\\Users\\Proprietario\\Desktop\\SLAPP\\SLAPP3-master\\6 objectSwarmObserverAgents_AESOP_turtleLib_NetworkX\\Analisi 2\" # use your path\n",
    "all_files = glob.glob(filepath + \"/*.txt\")\n",
    "G = {}\n",
    "j = 0\n",
    "\n",
    "for filename in all_files:\n",
    "    G[j]=nx.DiGraph()\n",
    "    fh=open(filename,'r')\n",
    "    for i, line in enumerate(fh):\n",
    "        s=line.strip()\n",
    "        s=s.strip(\";\").split()\n",
    "        if (i>6) and (s[0] != 'label') and (s[0] != '}') and (s[1] != '[style=filled,'):\n",
    "            origin=int(s[0])\n",
    "            dest=int(s[2])\n",
    "            G[j].add_edge(origin,dest)\n",
    "    fh.close()\n",
    "    j += 1"
   ]
  },
  {
   "cell_type": "code",
   "execution_count": 3,
   "metadata": {},
   "outputs": [
    {
     "name": "stdout",
     "output_type": "stream",
     "text": [
      "The network has 100000 nodes and 577931 links.\n"
     ]
    }
   ],
   "source": [
    "for i in range (len(G)):\n",
    "    print('The network has', len(G[i]), 'nodes and', len(G[i].edges()), 'links.')"
   ]
  },
  {
   "cell_type": "code",
   "execution_count": 4,
   "metadata": {},
   "outputs": [
    {
     "name": "stdout",
     "output_type": "stream",
     "text": [
      "Is the graph simply connected? False\n"
     ]
    }
   ],
   "source": [
    "for i in range (len(G)):\n",
    "    print(\"Is the graph simply connected?\", nx.is_strongly_connected(G[i]))"
   ]
  },
  {
   "cell_type": "markdown",
   "metadata": {},
   "source": [
    "### Show the components of the graph"
   ]
  },
  {
   "cell_type": "code",
   "execution_count": 5,
   "metadata": {},
   "outputs": [
    {
     "name": "stdout",
     "output_type": "stream",
     "text": [
      "The graph has 94975 connected components\n"
     ]
    }
   ],
   "source": [
    "for i in range (len(G)):\n",
    "    print(\"The graph has\", nx.number_strongly_connected_components(G[i]),\"connected components\")"
   ]
  },
  {
   "cell_type": "markdown",
   "metadata": {},
   "source": [
    "### Extract the largest Connected Component as a subgraph"
   ]
  },
  {
   "cell_type": "code",
   "execution_count": 6,
   "metadata": {},
   "outputs": [
    {
     "data": {
      "text/plain": [
       "1"
      ]
     },
     "execution_count": 6,
     "metadata": {},
     "output_type": "execute_result"
    }
   ],
   "source": [
    "len(G)"
   ]
  },
  {
   "cell_type": "code",
   "execution_count": 7,
   "metadata": {},
   "outputs": [],
   "source": [
    "graphs = {}\n",
    "\n",
    "for i in range (len(G)):\n",
    "    graphs[i] = []\n",
    "    for c in nx.strongly_connected_components(G[i]):\n",
    "        graphs[i].append(G[i].subgraph(c))"
   ]
  },
  {
   "cell_type": "code",
   "execution_count": 8,
   "metadata": {},
   "outputs": [],
   "source": [
    "H = {}\n",
    "\n",
    "for i in range (len(G)):\n",
    "    H[i] = graphs[i][0]"
   ]
  },
  {
   "cell_type": "code",
   "execution_count": 9,
   "metadata": {},
   "outputs": [
    {
     "name": "stdout",
     "output_type": "stream",
     "text": [
      "1\n"
     ]
    }
   ],
   "source": [
    "for i in range (len(G)):\n",
    "    print(len(H[i]))"
   ]
  },
  {
   "cell_type": "code",
   "execution_count": 10,
   "metadata": {},
   "outputs": [
    {
     "name": "stdout",
     "output_type": "stream",
     "text": [
      "99999\n"
     ]
    }
   ],
   "source": [
    "for i in range (len(G)):\n",
    "    print(len(G[i])-len(H[i]))"
   ]
  },
  {
   "cell_type": "code",
   "execution_count": 11,
   "metadata": {},
   "outputs": [
    {
     "name": "stdout",
     "output_type": "stream",
     "text": [
      "Check that the graph is now connected\n",
      "1\n"
     ]
    }
   ],
   "source": [
    "for i in range (len(G)):\n",
    "    print(\"Check that the graph is now connected\")\n",
    "    print(nx.number_strongly_connected_components(H[i]))"
   ]
  },
  {
   "cell_type": "markdown",
   "metadata": {},
   "source": [
    "## Clustering"
   ]
  },
  {
   "cell_type": "code",
   "execution_count": 14,
   "metadata": {},
   "outputs": [],
   "source": [
    "files = glob.glob(filepath + \"/*.csv\")\n",
    "dataset = {}\n",
    "j = 0\n",
    "\n",
    "for filename in files:\n",
    "    dataset[j] = pd.read_csv(filename, encoding=\"utf8\")\n",
    "    j += 1"
   ]
  },
  {
   "cell_type": "code",
   "execution_count": 15,
   "metadata": {},
   "outputs": [
    {
     "name": "stdout",
     "output_type": "stream",
     "text": [
      "<bound method NDFrame.head of         id_autore agent_type     score\n",
      "0           47108     voters  0.601495\n",
      "1           30987     voters  0.531473\n",
      "2           65355     voters  0.647263\n",
      "3           73314     voters  0.654576\n",
      "4           10142     voters  0.263921\n",
      "...           ...        ...       ...\n",
      "99996        4235     voters  0.146165\n",
      "99997       64246     voters  0.601931\n",
      "99998        6075     voters  0.159017\n",
      "99999       61293     voters  0.571794\n",
      "100000      41981     voters  0.473355\n",
      "\n",
      "[100001 rows x 3 columns]>\n",
      "<bound method NDFrame.head of         id_autore agent_type     score\n",
      "0           18495     voters  0.338087\n",
      "1           51051     voters  0.628562\n",
      "2           19626     voters  0.344632\n",
      "3            5108     voters  0.135075\n",
      "4           29654     voters  0.541126\n",
      "...           ...        ...       ...\n",
      "99996        9235     voters  0.228088\n",
      "99997       49084     voters  0.698184\n",
      "99998       82716     voters  0.717362\n",
      "99999       20362     voters  0.353185\n",
      "100000      85898     voters  0.749545\n",
      "\n",
      "[100001 rows x 3 columns]>\n"
     ]
    }
   ],
   "source": [
    "for i in range(len(dataset)):\n",
    "    print(dataset[i].head)"
   ]
  },
  {
   "cell_type": "code",
   "execution_count": 23,
   "metadata": {},
   "outputs": [],
   "source": [
    "N_nodes = {}\n",
    "N_edges = {}\n",
    "\n",
    "for j in range (len(G)+1):\n",
    "    N_nodes[str(j)] = [0]*8\n",
    "    N_edges[str(j)] = [0]*8\n",
    "    \n",
    "    for i in range (len(dataset[j])):\n",
    "        if dataset[j]['score'][i] < 0.1:\n",
    "            N_nodes[str(j)][0] += 1\n",
    "            N_edges[str(j)][0] += G[0].out_degree(dataset[j]['id_autore'][i])\n",
    "        if (dataset[j]['score'][i] < 0.2) and (dataset[j]['score'][i] > 0.1):\n",
    "            N_nodes[str(j)][1] += 1\n",
    "            N_edges[str(j)][1] += G[0].out_degree(dataset[j]['id_autore'][i])\n",
    "        if (dataset[j]['score'][i] < 0.3) and (dataset[j]['score'][i] > 0.2):\n",
    "            N_nodes[str(j)][2] += 1\n",
    "            N_edges[str(j)][2] += G[0].out_degree(dataset[j]['id_autore'][i])\n",
    "        if (dataset[j]['score'][i] < 0.45) and (dataset[j]['score'][i] > 0.3):\n",
    "            N_nodes[str(j)][3] += 1\n",
    "            N_edges[str(j)][3] += G[0].out_degree(dataset[j]['id_autore'][i])\n",
    "        if (dataset[j]['score'][i] < 0.55) and (dataset[j]['score'][i] > 0.45):\n",
    "            N_nodes[str(j)][4] += 1\n",
    "            N_edges[str(j)][4] += G[0].out_degree(dataset[j]['id_autore'][i])\n",
    "        if (dataset[j]['score'][i] < 0.7) and (dataset[j]['score'][i] > 0.55):\n",
    "            N_nodes[str(j)][5] += 1\n",
    "            N_edges[str(j)][5] += G[0].out_degree(dataset[j]['id_autore'][i])\n",
    "        if (dataset[j]['score'][i] < 0.8) and (dataset[j]['score'][i] > 0.7):\n",
    "            N_nodes[str(j)][6] += 1\n",
    "            N_edges[str(j)][6] += G[0].out_degree(dataset[j]['id_autore'][i])\n",
    "        if (dataset[j]['score'][i] < 0.9) and (dataset[j]['score'][i] > 0.8):\n",
    "            N_nodes[str(j)][7] += 1\n",
    "            N_edges[str(j)][7] += G[0].out_degree(dataset[j]['id_autore'][i])"
   ]
  },
  {
   "cell_type": "code",
   "execution_count": 24,
   "metadata": {},
   "outputs": [
    {
     "name": "stdout",
     "output_type": "stream",
     "text": [
      "\n",
      "\n",
      "The  1  K_mean value is:  8.595035778175314\n",
      "The  2  K_mean value is:  6.3732608347992965\n",
      "The  3  K_mean value is:  4.982731554160126\n",
      "The  4  K_mean value is:  5.20013886478042\n",
      "The  5  K_mean value is:  5.358246527777778\n",
      "The  6  K_mean value is:  5.7816546887477\n",
      "The  7  K_mean value is:  5.946809895833334\n",
      "The  8  K_mean value is:  6.030486902471511\n",
      "\n",
      "\n",
      "The  1  K_mean value is:  7.571969696969697\n",
      "The  2  K_mean value is:  7.0339235232852255\n",
      "The  3  K_mean value is:  5.067090321908532\n",
      "The  4  K_mean value is:  5.199131944444445\n",
      "The  5  K_mean value is:  5.358491384922529\n",
      "The  6  K_mean value is:  5.7816546887477\n",
      "The  7  K_mean value is:  5.946809895833334\n",
      "The  8  K_mean value is:  6.030486902471511\n"
     ]
    }
   ],
   "source": [
    "K_mean = {}\n",
    "voters_type = 8\n",
    "\n",
    "for j in range (len(G)+1):\n",
    "    K_mean[str(j)] = []\n",
    "    print('\\n')\n",
    "    for i in range (voters_type):\n",
    "        K_mean[str(j)].append(N_edges[str(j)][i]/N_nodes[str(j)][i])\n",
    "        print(\"The \", i+1, \" K_mean value is: \",K_mean[str(j)][i])"
   ]
  },
  {
   "cell_type": "code",
   "execution_count": null,
   "metadata": {},
   "outputs": [],
   "source": []
  }
 ],
 "metadata": {
  "kernelspec": {
   "display_name": "Python 3",
   "language": "python",
   "name": "python3"
  },
  "language_info": {
   "codemirror_mode": {
    "name": "ipython",
    "version": 3
   },
   "file_extension": ".py",
   "mimetype": "text/x-python",
   "name": "python",
   "nbconvert_exporter": "python",
   "pygments_lexer": "ipython3",
   "version": "3.7.4"
  }
 },
 "nbformat": 4,
 "nbformat_minor": 2
}
