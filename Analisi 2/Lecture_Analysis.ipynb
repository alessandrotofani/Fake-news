{
 "cells": [
  {
   "cell_type": "code",
   "execution_count": 1,
   "metadata": {},
   "outputs": [
    {
     "name": "stdout",
     "output_type": "stream",
     "text": [
      "Populating the interactive namespace from numpy and matplotlib\n"
     ]
    }
   ],
   "source": [
    "import networkx as nx\n",
    "import seaborn as sns\n",
    "import pandas as pd\n",
    "import glob\n",
    "import ast\n",
    "\n",
    "%pylab inline"
   ]
  },
  {
   "cell_type": "code",
   "execution_count": 2,
   "metadata": {},
   "outputs": [],
   "source": [
    "filepath = r\"C:\\Users\\Proprietario\\Desktop\\SLAPP\\SLAPP3-master\\6 objectSwarmObserverAgents_AESOP_turtleLib_NetworkX\\Analisi 2\" # use your path\n",
    "all_files = glob.glob(filepath + \"/*.txt\")\n",
    "G = {}\n",
    "j = 0\n",
    "\n",
    "for filename in all_files:\n",
    "    G[j]=nx.Graph()\n",
    "    fh=open(filename,'r')\n",
    "    for i, line in enumerate(fh):\n",
    "        s=line.strip()\n",
    "        s=s.strip(\";\").split()\n",
    "        if (i>6) and (s[0] != 'label') and (s[0] != '}') and (s[1] != '[style=filled,'):\n",
    "            origin=int(s[0])\n",
    "            dest=int(s[2])\n",
    "            G[j].add_edge(origin,dest)\n",
    "    fh.close()\n",
    "    j += 1"
   ]
  },
  {
   "cell_type": "code",
   "execution_count": 3,
   "metadata": {},
   "outputs": [
    {
     "name": "stdout",
     "output_type": "stream",
     "text": [
      "The network has 99999 nodes and 142725 links.\n",
      "The network has 99999 nodes and 264468 links.\n"
     ]
    }
   ],
   "source": [
    "for i in range (len(G)):\n",
    "    print('The network has', len(G[i]), 'nodes and', len(G[i].edges()), 'links.')"
   ]
  },
  {
   "cell_type": "code",
   "execution_count": 4,
   "metadata": {},
   "outputs": [
    {
     "name": "stdout",
     "output_type": "stream",
     "text": [
      "Is the graph simply connected? False\n",
      "Is the graph simply connected? False\n"
     ]
    }
   ],
   "source": [
    "for i in range (len(G)):\n",
    "    print(\"Is the graph simply connected?\", nx.is_connected(G[i]))"
   ]
  },
  {
   "cell_type": "markdown",
   "metadata": {},
   "source": [
    "### Show the components of the graph"
   ]
  },
  {
   "cell_type": "code",
   "execution_count": 5,
   "metadata": {},
   "outputs": [
    {
     "name": "stdout",
     "output_type": "stream",
     "text": [
      "The graph has 11690 connected components\n",
      "The graph has 11690 connected components\n"
     ]
    }
   ],
   "source": [
    "for i in range (len(G)):\n",
    "    print(\"The graph has\", nx.number_connected_components(G[i]),\"connected components\")"
   ]
  },
  {
   "cell_type": "markdown",
   "metadata": {},
   "source": [
    "### Extract the largest Connected Component as a subgraph"
   ]
  },
  {
   "cell_type": "code",
   "execution_count": 6,
   "metadata": {},
   "outputs": [
    {
     "data": {
      "text/plain": [
       "2"
      ]
     },
     "execution_count": 6,
     "metadata": {},
     "output_type": "execute_result"
    }
   ],
   "source": [
    "len(G)"
   ]
  },
  {
   "cell_type": "code",
   "execution_count": 7,
   "metadata": {},
   "outputs": [],
   "source": [
    "graphs = {}\n",
    "\n",
    "for i in range (len(G)):\n",
    "    graphs[i] = []\n",
    "    for c in nx.connected_components(G[i]):\n",
    "        graphs[i].append(G[i].subgraph(c))"
   ]
  },
  {
   "cell_type": "code",
   "execution_count": 8,
   "metadata": {},
   "outputs": [],
   "source": [
    "H = {}\n",
    "\n",
    "for i in range (len(G)):\n",
    "    H[i] = graphs[i][0]"
   ]
  },
  {
   "cell_type": "code",
   "execution_count": 9,
   "metadata": {},
   "outputs": [
    {
     "name": "stdout",
     "output_type": "stream",
     "text": [
      "69100\n",
      "69100\n"
     ]
    }
   ],
   "source": [
    "for i in range (len(G)):\n",
    "    print(len(H[i]))"
   ]
  },
  {
   "cell_type": "code",
   "execution_count": 10,
   "metadata": {},
   "outputs": [
    {
     "name": "stdout",
     "output_type": "stream",
     "text": [
      "30899\n",
      "30899\n"
     ]
    }
   ],
   "source": [
    "for i in range (len(G)):\n",
    "    print(len(G[i])-len(H[i]))"
   ]
  },
  {
   "cell_type": "code",
   "execution_count": 11,
   "metadata": {},
   "outputs": [
    {
     "name": "stdout",
     "output_type": "stream",
     "text": [
      "Check that the graph is now connected\n",
      "1\n",
      "Check that the graph is now connected\n",
      "1\n"
     ]
    }
   ],
   "source": [
    "for i in range (len(G)):\n",
    "    print(\"Check that the graph is now connected\")\n",
    "    print(nx.number_connected_components(H[i]))"
   ]
  },
  {
   "cell_type": "markdown",
   "metadata": {},
   "source": [
    "## Clustering"
   ]
  },
  {
   "cell_type": "code",
   "execution_count": 12,
   "metadata": {},
   "outputs": [],
   "source": [
    "files = glob.glob(filepath + \"/*.csv\")\n",
    "dataset = {}\n",
    "j = 0\n",
    "\n",
    "for filename in files:\n",
    "    dataset[j] = pd.read_csv(filename, encoding=\"utf8\")\n",
    "    j += 1"
   ]
  },
  {
   "cell_type": "code",
   "execution_count": 13,
   "metadata": {},
   "outputs": [
    {
     "name": "stdout",
     "output_type": "stream",
     "text": [
      "<bound method NDFrame.head of        id_autore agent_type     score\n",
      "0          38603     voters  0.481753\n",
      "1          80122     voters  0.753378\n",
      "2          47712     voters  0.641120\n",
      "3          34942     voters  0.465451\n",
      "4           5116     voters  0.140931\n",
      "...          ...        ...       ...\n",
      "95991      47000     voters  0.646813\n",
      "95992      77785     voters  0.711411\n",
      "95993      94824     voters  0.873697\n",
      "95994      34197     voters  0.471100\n",
      "95995      40597     voters  0.462446\n",
      "\n",
      "[95996 rows x 3 columns]>\n",
      "<bound method NDFrame.head of        id_autore agent_type     score\n",
      "0          81325     voters  0.702782\n",
      "1          42669     voters  0.445995\n",
      "2          65086     voters  0.635360\n",
      "3           4075     voters  0.167824\n",
      "4          85822     voters  0.726112\n",
      "...          ...        ...       ...\n",
      "95991      14189     voters  0.278129\n",
      "95992      37819     voters  0.452086\n",
      "95993      12255     voters  0.292518\n",
      "95994      66909     voters  0.668831\n",
      "95995      63186     voters  0.546478\n",
      "\n",
      "[95996 rows x 3 columns]>\n"
     ]
    }
   ],
   "source": [
    "for i in range(len(dataset)):\n",
    "    print(dataset[i].head)"
   ]
  },
  {
   "cell_type": "code",
   "execution_count": 17,
   "metadata": {},
   "outputs": [
    {
     "data": {
      "text/plain": [
       "0        0.481753\n",
       "1        0.753378\n",
       "2        0.641120\n",
       "3        0.465451\n",
       "4        0.140931\n",
       "           ...   \n",
       "95991    0.646813\n",
       "95992    0.711411\n",
       "95993    0.873697\n",
       "95994    0.471100\n",
       "95995    0.462446\n",
       "Name: score, Length: 95996, dtype: float64"
      ]
     },
     "execution_count": 17,
     "metadata": {},
     "output_type": "execute_result"
    }
   ],
   "source": [
    "dataset[0]['score']"
   ]
  },
  {
   "cell_type": "code",
   "execution_count": null,
   "metadata": {},
   "outputs": [],
   "source": [
    "N_nodes = {}\n",
    "N_edges = {}\n",
    "\n",
    "for j in range (len(G)):\n",
    "    for i in range (len(dataset[j])):\n",
    "        if dataset[j]['score'][i] < 0.1:\n",
    "            "
   ]
  }
 ],
 "metadata": {
  "kernelspec": {
   "display_name": "Python 3",
   "language": "python",
   "name": "python3"
  },
  "language_info": {
   "codemirror_mode": {
    "name": "ipython",
    "version": 3
   },
   "file_extension": ".py",
   "mimetype": "text/x-python",
   "name": "python",
   "nbconvert_exporter": "python",
   "pygments_lexer": "ipython3",
   "version": "3.7.4"
  }
 },
 "nbformat": 4,
 "nbformat_minor": 2
}
