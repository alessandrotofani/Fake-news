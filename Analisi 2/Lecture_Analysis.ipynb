{
 "cells": [
  {
   "cell_type": "code",
   "execution_count": 1,
   "metadata": {},
   "outputs": [
    {
     "name": "stdout",
     "output_type": "stream",
     "text": [
      "Populating the interactive namespace from numpy and matplotlib\n"
     ]
    }
   ],
   "source": [
    "import networkx as nx\n",
    "import seaborn as sns\n",
    "import pandas as pd\n",
    "import glob\n",
    "import ast\n",
    "\n",
    "%pylab inline"
   ]
  },
  {
   "cell_type": "code",
   "execution_count": 2,
   "metadata": {},
   "outputs": [],
   "source": [
    "filepath = r\"C:\\Users\\Alessandro\\snap_github\\Fake-news\\Analisi 2\" # use your path\n",
    "all_files = glob.glob(filepath + \"/*.txt\")\n",
    "G = {}\n",
    "j = 0\n",
    "\n",
    "for filename in all_files:\n",
    "    G[j]=nx.DiGraph()\n",
    "    fh=open(filename,'r')\n",
    "    for i, line in enumerate(fh):\n",
    "        s=line.strip()\n",
    "        s=s.strip(\";\").split()\n",
    "        if (i>6) and (s[0] != 'label') and (s[0] != '}') and (s[1] != '[style=filled,'):\n",
    "            origin=int(s[0])\n",
    "            dest=int(s[2])\n",
    "            G[j].add_edge(origin,dest)\n",
    "    fh.close()\n",
    "    j += 1"
   ]
  },
  {
   "cell_type": "code",
   "execution_count": 3,
   "metadata": {
    "scrolled": false
   },
   "outputs": [
    {
     "name": "stdout",
     "output_type": "stream",
     "text": [
      "The network has 100000 nodes and 1915406 links.\n",
      "The network has 46583 nodes and 107305 links.\n"
     ]
    }
   ],
   "source": [
    "for i in range (len(G)):\n",
    "    print('The network has', len(G[i]), 'nodes and', len(G[i].edges()), 'links.')"
   ]
  },
  {
   "cell_type": "code",
   "execution_count": 4,
   "metadata": {},
   "outputs": [],
   "source": [
    "# for i in range (len(G)):\n",
    "#     print(\"Is the graph simply connected?\", nx.is_strongly_connected(G[i]))"
   ]
  },
  {
   "cell_type": "markdown",
   "metadata": {},
   "source": [
    "### Show the components of the graph"
   ]
  },
  {
   "cell_type": "code",
   "execution_count": 5,
   "metadata": {},
   "outputs": [],
   "source": [
    "# for i in range (len(G)):\n",
    "#     print(\"The graph has\", nx.number_strongly_connected_components(G[i]),\"connected components\")"
   ]
  },
  {
   "cell_type": "markdown",
   "metadata": {},
   "source": [
    "### Extract the largest Connected Component as a subgraph"
   ]
  },
  {
   "cell_type": "code",
   "execution_count": 6,
   "metadata": {},
   "outputs": [
    {
     "data": {
      "text/plain": [
       "2"
      ]
     },
     "execution_count": 6,
     "metadata": {},
     "output_type": "execute_result"
    }
   ],
   "source": [
    "len(G)"
   ]
  },
  {
   "cell_type": "code",
   "execution_count": 7,
   "metadata": {},
   "outputs": [],
   "source": [
    "graphs = {}\n",
    "\n",
    "for i in range (len(G)):\n",
    "    graphs[i] = []\n",
    "    for c in nx.strongly_connected_components(G[i]):\n",
    "        graphs[i].append(G[i].subgraph(c))"
   ]
  },
  {
   "cell_type": "code",
   "execution_count": 8,
   "metadata": {},
   "outputs": [],
   "source": [
    "H = {}\n",
    "\n",
    "for i in range (len(G)):\n",
    "    H[i] = graphs[i][0]"
   ]
  },
  {
   "cell_type": "code",
   "execution_count": 9,
   "metadata": {},
   "outputs": [
    {
     "name": "stdout",
     "output_type": "stream",
     "text": [
      "1\n",
      "1\n"
     ]
    }
   ],
   "source": [
    "for i in range (len(G)):\n",
    "    print(len(H[i]))"
   ]
  },
  {
   "cell_type": "code",
   "execution_count": 10,
   "metadata": {},
   "outputs": [
    {
     "name": "stdout",
     "output_type": "stream",
     "text": [
      "99999\n",
      "46582\n"
     ]
    }
   ],
   "source": [
    "for i in range (len(G)):\n",
    "    print(len(G[i])-len(H[i]))"
   ]
  },
  {
   "cell_type": "code",
   "execution_count": 11,
   "metadata": {},
   "outputs": [
    {
     "name": "stdout",
     "output_type": "stream",
     "text": [
      "Check that the graph is now connected\n",
      "1\n",
      "Check that the graph is now connected\n",
      "1\n"
     ]
    }
   ],
   "source": [
    "for i in range (len(G)):\n",
    "    print(\"Check that the graph is now connected\")\n",
    "    print(nx.number_strongly_connected_components(H[i]))"
   ]
  },
  {
   "cell_type": "markdown",
   "metadata": {},
   "source": [
    "## Clustering"
   ]
  },
  {
   "cell_type": "code",
   "execution_count": 12,
   "metadata": {},
   "outputs": [],
   "source": [
    "files = glob.glob(filepath + \"/*.csv\")\n",
    "dataset = {}\n",
    "j = 0\n",
    "\n",
    "for filename in files:\n",
    "    dataset[j] = pd.read_csv(filename, encoding=\"utf8\")\n",
    "    j += 1"
   ]
  },
  {
   "cell_type": "code",
   "execution_count": 13,
   "metadata": {},
   "outputs": [
    {
     "name": "stdout",
     "output_type": "stream",
     "text": [
      "<bound method NDFrame.head of         id_autore  agent_type     score\n",
      "0           81180      voters  0.738823\n",
      "1           57298      voters  0.557107\n",
      "2            6396      voters  0.196010\n",
      "3           67913      voters  0.638395\n",
      "4           11383      voters  0.269918\n",
      "...           ...         ...       ...\n",
      "99996       50272      voters  0.675799\n",
      "99997       16487      voters  0.215435\n",
      "99998       97438  right_bots  0.066677\n",
      "99999       66215      voters  0.663795\n",
      "100000      36345      voters  0.536492\n",
      "\n",
      "[100001 rows x 3 columns]>\n",
      "<bound method NDFrame.head of         id_autore agent_type     score\n",
      "0           16183     voters  0.202301\n",
      "1           44435     voters  0.536831\n",
      "2           25354     voters  0.485313\n",
      "3           63627     voters  0.688795\n",
      "4           33009     voters  0.530624\n",
      "...           ...        ...       ...\n",
      "99996       95413     voters  0.852621\n",
      "99997       66652     voters  0.689122\n",
      "99998        5043     voters  0.192222\n",
      "99999       76749     voters  0.741277\n",
      "100000      88741     voters  0.707968\n",
      "\n",
      "[100001 rows x 3 columns]>\n"
     ]
    }
   ],
   "source": [
    "for i in range(len(dataset)):\n",
    "    print(dataset[i].head)"
   ]
  },
  {
   "cell_type": "code",
   "execution_count": 29,
   "metadata": {},
   "outputs": [],
   "source": [
    "N_nodes = {}\n",
    "N_edges = {}\n",
    "\n",
    "for j in range (len(G)):\n",
    "    N_nodes[str(j)] = [0]*8\n",
    "    N_edges[str(j)] = [0]*8\n",
    "    \n",
    "    for i in range (len(dataset[j])):\n",
    "        if G[1].has_node(dataset[j]['id_autore'][i]):\n",
    "            if dataset[j]['score'][i] < 0.1:\n",
    "                N_nodes[str(j)][0] += 1\n",
    "                N_edges[str(j)][0] += G[1].degree(dataset[j]['id_autore'][i]) \n",
    "            if (dataset[j]['score'][i] < 0.2) and (dataset[j]['score'][i] > 0.1):\n",
    "                N_nodes[str(j)][1] += 1\n",
    "                N_edges[str(j)][1] += G[1].degree(dataset[j]['id_autore'][i])\n",
    "            if (dataset[j]['score'][i] < 0.3) and (dataset[j]['score'][i] > 0.2):\n",
    "                N_nodes[str(j)][2] += 1\n",
    "                N_edges[str(j)][2] += G[1].degree(dataset[j]['id_autore'][i])\n",
    "            if (dataset[j]['score'][i] < 0.45) and (dataset[j]['score'][i] > 0.3):\n",
    "                N_nodes[str(j)][3] += 1\n",
    "                N_edges[str(j)][3] += G[1].degree(dataset[j]['id_autore'][i])\n",
    "            if (dataset[j]['score'][i] < 0.55) and (dataset[j]['score'][i] > 0.45):\n",
    "                N_nodes[str(j)][4] += 1\n",
    "                N_edges[str(j)][4] += G[1].degree(dataset[j]['id_autore'][i])\n",
    "            if (dataset[j]['score'][i] < 0.7) and (dataset[j]['score'][i] > 0.55):\n",
    "                N_nodes[str(j)][5] += 1\n",
    "                N_edges[str(j)][5] += G[1].degree(dataset[j]['id_autore'][i]) \n",
    "            if (dataset[j]['score'][i] < 0.8) and (dataset[j]['score'][i] > 0.7):\n",
    "                N_nodes[str(j)][6] += 1\n",
    "                N_edges[str(j)][6] += G[1].degree(dataset[j]['id_autore'][i]) \n",
    "            if (dataset[j]['score'][i] < 0.9) and (dataset[j]['score'][i] > 0.8):\n",
    "                N_nodes[str(j)][7] += 1\n",
    "                N_edges[str(j)][7] += G[1].degree(dataset[j]['id_autore'][i]) "
   ]
  },
  {
   "cell_type": "code",
   "execution_count": 30,
   "metadata": {},
   "outputs": [
    {
     "name": "stdout",
     "output_type": "stream",
     "text": [
      "\n",
      "\n",
      "The  1  K_mean value is:  4.1370786516853935\n",
      "The  2  K_mean value is:  3.0932377049180326\n",
      "The  3  K_mean value is:  2.6375751241181082\n",
      "The  4  K_mean value is:  2.5272316384180793\n",
      "The  5  K_mean value is:  2.601227947462501\n",
      "The  6  K_mean value is:  4.7806341045415595\n",
      "The  7  K_mean value is:  1.0967845659163986\n",
      "The  8  K_mean value is:  614.1071428571429\n",
      "\n",
      "\n",
      "The  1  K_mean value is:  4.128930817610063\n",
      "The  2  K_mean value is:  3.144661125319693\n",
      "The  3  K_mean value is:  2.570464573059953\n",
      "The  4  K_mean value is:  2.5071723802577193\n",
      "The  5  K_mean value is:  2.6040861812778604\n",
      "The  6  K_mean value is:  4.842880085653105\n",
      "The  7  K_mean value is:  1.0003471017007983\n",
      "The  8  K_mean value is:  11445.666666666666\n"
     ]
    }
   ],
   "source": [
    "K_mean = {}\n",
    "voters_type = 8\n",
    "\n",
    "for j in range (len(G)):\n",
    "    K_mean[str(j)] = []\n",
    "    print('\\n')\n",
    "    for i in range (voters_type):\n",
    "        K_mean[str(j)].append(N_edges[str(j)][i]/N_nodes[str(j)][i])\n",
    "        print(\"The \", i+1, \" K_mean value is: \",K_mean[str(j)][i])"
   ]
  },
  {
   "cell_type": "code",
   "execution_count": null,
   "metadata": {},
   "outputs": [],
   "source": []
  }
 ],
 "metadata": {
  "kernelspec": {
   "display_name": "Python 3",
   "language": "python",
   "name": "python3"
  },
  "language_info": {
   "codemirror_mode": {
    "name": "ipython",
    "version": 3
   },
   "file_extension": ".py",
   "mimetype": "text/x-python",
   "name": "python",
   "nbconvert_exporter": "python",
   "pygments_lexer": "ipython3",
   "version": "3.7.6"
  }
 },
 "nbformat": 4,
 "nbformat_minor": 2
}
