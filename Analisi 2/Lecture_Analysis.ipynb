{
 "cells": [
  {
   "cell_type": "code",
   "execution_count": 1,
   "metadata": {},
   "outputs": [
    {
     "name": "stdout",
     "output_type": "stream",
     "text": [
      "Populating the interactive namespace from numpy and matplotlib\n"
     ]
    }
   ],
   "source": [
    "import networkx as nx\n",
    "import seaborn as sns\n",
    "import pandas as pd\n",
    "import glob\n",
    "import ast\n",
    "\n",
    "%pylab inline"
   ]
  },
  {
   "cell_type": "code",
   "execution_count": 2,
   "metadata": {},
   "outputs": [],
   "source": [
    "filepath = r\"C:\\Users\\Proprietario\\Desktop\\SLAPP\\SLAPP3-master\\6 objectSwarmObserverAgents_AESOP_turtleLib_NetworkX\\Analisi 2\" # use your path\n",
    "all_files = glob.glob(filepath + \"/*.txt\")\n",
    "G = {}\n",
    "j = 0\n",
    "\n",
    "for filename in all_files:\n",
    "    G[j]=nx.DiGraph()\n",
    "    fh=open(filename,'r')\n",
    "    for i, line in enumerate(fh):\n",
    "        s=line.strip()\n",
    "        s=s.strip(\";\").split()\n",
    "        if (i>6) and (s[0] != 'label') and (s[0] != '}') and (s[1] != '[style=filled,'):\n",
    "            origin=int(s[0])\n",
    "            dest=int(s[2])\n",
    "            G[j].add_edge(origin,dest)\n",
    "    fh.close()\n",
    "    j += 1"
   ]
  },
  {
   "cell_type": "code",
   "execution_count": 3,
   "metadata": {},
   "outputs": [
    {
     "name": "stdout",
     "output_type": "stream",
     "text": [
      "The network has 32557 nodes and 101739 links.\n",
      "The network has 51624 nodes and 307685 links.\n",
      "The network has 14844 nodes and 39915 links.\n",
      "The network has 32149 nodes and 107183 links.\n",
      "The network has 52047 nodes and 270415 links.\n",
      "The network has 38495 nodes and 163601 links.\n",
      "The network has 31240 nodes and 76780 links.\n",
      "The network has 18381 nodes and 58037 links.\n",
      "The network has 48751 nodes and 182494 links.\n",
      "The network has 54561 nodes and 278004 links.\n"
     ]
    }
   ],
   "source": [
    "for i in range (len(G)):\n",
    "    print('The network has', len(G[i]), 'nodes and', len(G[i].edges()), 'links.')"
   ]
  },
  {
   "cell_type": "code",
   "execution_count": 4,
   "metadata": {},
   "outputs": [
    {
     "name": "stdout",
     "output_type": "stream",
     "text": [
      "Is the graph simply connected? False\n",
      "Is the graph simply connected? False\n",
      "Is the graph simply connected? False\n",
      "Is the graph simply connected? False\n",
      "Is the graph simply connected? False\n",
      "Is the graph simply connected? False\n",
      "Is the graph simply connected? False\n",
      "Is the graph simply connected? False\n",
      "Is the graph simply connected? False\n",
      "Is the graph simply connected? False\n"
     ]
    }
   ],
   "source": [
    "for i in range (len(G)):\n",
    "    print(\"Is the graph simply connected?\", nx.is_strongly_connected(G[i]))"
   ]
  },
  {
   "cell_type": "markdown",
   "metadata": {},
   "source": [
    "### Show the components of the graph"
   ]
  },
  {
   "cell_type": "code",
   "execution_count": 5,
   "metadata": {},
   "outputs": [
    {
     "name": "stdout",
     "output_type": "stream",
     "text": [
      "The graph has 32557 connected components\n",
      "The graph has 51624 connected components\n",
      "The graph has 14844 connected components\n",
      "The graph has 32149 connected components\n",
      "The graph has 52047 connected components\n",
      "The graph has 38495 connected components\n",
      "The graph has 31240 connected components\n",
      "The graph has 18381 connected components\n",
      "The graph has 48751 connected components\n",
      "The graph has 54561 connected components\n"
     ]
    }
   ],
   "source": [
    "for i in range (len(G)):\n",
    "    print(\"The graph has\", nx.number_strongly_connected_components(G[i]),\"connected components\")"
   ]
  },
  {
   "cell_type": "markdown",
   "metadata": {},
   "source": [
    "### Extract the largest Connected Component as a subgraph"
   ]
  },
  {
   "cell_type": "code",
   "execution_count": 6,
   "metadata": {},
   "outputs": [],
   "source": [
    "graphs = {}\n",
    "\n",
    "for i in range (len(G)):\n",
    "    graphs[i] = []\n",
    "    for c in nx.strongly_connected_components(G[i]):\n",
    "        graphs[i].append(G[i].subgraph(c))"
   ]
  },
  {
   "cell_type": "code",
   "execution_count": 7,
   "metadata": {},
   "outputs": [],
   "source": [
    "H = {}\n",
    "\n",
    "for i in range (len(G)):\n",
    "    H[i] = graphs[i][0]"
   ]
  },
  {
   "cell_type": "code",
   "execution_count": 8,
   "metadata": {},
   "outputs": [
    {
     "name": "stdout",
     "output_type": "stream",
     "text": [
      "1\n",
      "1\n",
      "1\n",
      "1\n",
      "1\n",
      "1\n",
      "1\n",
      "1\n",
      "1\n",
      "1\n"
     ]
    }
   ],
   "source": [
    "for i in range (len(G)):\n",
    "    print(len(H[i]))"
   ]
  },
  {
   "cell_type": "code",
   "execution_count": 9,
   "metadata": {},
   "outputs": [
    {
     "name": "stdout",
     "output_type": "stream",
     "text": [
      "32556\n",
      "51623\n",
      "14843\n",
      "32148\n",
      "52046\n",
      "38494\n",
      "31239\n",
      "18380\n",
      "48750\n",
      "54560\n"
     ]
    }
   ],
   "source": [
    "for i in range (len(G)):\n",
    "    print(len(G[i])-len(H[i]))"
   ]
  },
  {
   "cell_type": "code",
   "execution_count": 10,
   "metadata": {},
   "outputs": [
    {
     "name": "stdout",
     "output_type": "stream",
     "text": [
      "Check that the graph is now connected\n",
      "1\n",
      "Check that the graph is now connected\n",
      "1\n",
      "Check that the graph is now connected\n",
      "1\n",
      "Check that the graph is now connected\n",
      "1\n",
      "Check that the graph is now connected\n",
      "1\n",
      "Check that the graph is now connected\n",
      "1\n",
      "Check that the graph is now connected\n",
      "1\n",
      "Check that the graph is now connected\n",
      "1\n",
      "Check that the graph is now connected\n",
      "1\n",
      "Check that the graph is now connected\n",
      "1\n"
     ]
    }
   ],
   "source": [
    "for i in range (len(G)):\n",
    "    print(\"Check that the graph is now connected\")\n",
    "    print(nx.number_strongly_connected_components(H[i]))"
   ]
  },
  {
   "cell_type": "markdown",
   "metadata": {},
   "source": [
    "## Clustering"
   ]
  },
  {
   "cell_type": "code",
   "execution_count": 11,
   "metadata": {},
   "outputs": [],
   "source": [
    "files = glob.glob(filepath + \"/*.csv\")\n",
    "dataset = {}\n",
    "j = 0\n",
    "\n",
    "for filename in files:\n",
    "    dataset[j] = pd.read_csv(filename, encoding=\"utf8\")\n",
    "    j += 1"
   ]
  },
  {
   "cell_type": "code",
   "execution_count": 12,
   "metadata": {},
   "outputs": [
    {
     "name": "stdout",
     "output_type": "stream",
     "text": [
      "<bound method NDFrame.head of         id_autore agent_type     score\n",
      "0           30177     voters  0.529756\n",
      "1            8438     voters  0.209021\n",
      "2           43788     voters  0.510521\n",
      "3           22840     voters  0.334266\n",
      "4           75887     voters  0.746125\n",
      "...           ...        ...       ...\n",
      "99996         686     voters  0.035972\n",
      "99997       26625     voters  0.532284\n",
      "99998       53365     voters  0.684630\n",
      "99999       16833     voters  0.285604\n",
      "100000      35710     voters  0.540229\n",
      "\n",
      "[100001 rows x 3 columns]>\n",
      "<bound method NDFrame.head of         id_autore agent_type     score\n",
      "0           83344     voters  0.767930\n",
      "1            9325     voters  0.294695\n",
      "2           30626     voters  0.487381\n",
      "3           34093     voters  0.524170\n",
      "4           51799     voters  0.577045\n",
      "...           ...        ...       ...\n",
      "99996       16496     voters  0.296982\n",
      "99997       38584     voters  0.460588\n",
      "99998       18049     voters  0.370242\n",
      "99999       92859     voters  0.850553\n",
      "100000      59245     voters  0.649829\n",
      "\n",
      "[100001 rows x 3 columns]>\n",
      "<bound method NDFrame.head of         id_autore agent_type     score\n",
      "0           42881     voters  0.519653\n",
      "1           59313     voters  0.562366\n",
      "2           46032     voters  0.488483\n",
      "3           86138     voters  0.713931\n",
      "4            4083     voters  0.184077\n",
      "...           ...        ...       ...\n",
      "99996       75170     voters  0.791320\n",
      "99997       22508     voters  0.414320\n",
      "99998       35749     voters  0.465714\n",
      "99999       80110     voters  0.724716\n",
      "100000      49511     voters  0.694669\n",
      "\n",
      "[100001 rows x 3 columns]>\n",
      "<bound method NDFrame.head of         id_autore agent_type     score\n",
      "0           88826     voters  0.770527\n",
      "1             370     voters  0.057988\n",
      "2           74574     voters  0.561805\n",
      "3           18630     voters  0.400953\n",
      "4           84891     voters  0.748078\n",
      "...           ...        ...       ...\n",
      "99996       77212     voters  0.767678\n",
      "99997       75194     voters  0.724410\n",
      "99998       28635     voters  0.521131\n",
      "99999       60729     voters  0.693113\n",
      "100000      85238     voters  0.750635\n",
      "\n",
      "[100001 rows x 3 columns]>\n",
      "<bound method NDFrame.head of         id_autore agent_type     score\n",
      "0           83643     voters  0.750551\n",
      "1           85273     voters  0.747308\n",
      "2           51647     voters  0.650543\n",
      "3           74230     voters  0.586457\n",
      "4           40043     voters  0.508488\n",
      "...           ...        ...       ...\n",
      "99996       20939     voters  0.358121\n",
      "99997       95647     voters  0.862195\n",
      "99998       95059     voters  0.811311\n",
      "99999       88201     voters  0.802496\n",
      "100000      11583     voters  0.286812\n",
      "\n",
      "[100001 rows x 3 columns]>\n",
      "<bound method NDFrame.head of         id_autore agent_type     score\n",
      "0           19795     voters  0.319315\n",
      "1           63813     voters  0.650979\n",
      "2           44328     voters  0.494769\n",
      "3           26479     voters  0.504691\n",
      "4           60062     voters  0.568728\n",
      "...           ...        ...       ...\n",
      "99996        3849     voters  0.098851\n",
      "99997       42010     voters  0.483483\n",
      "99998       62787     voters  0.630128\n",
      "99999        1174     voters  0.124584\n",
      "100000      38010     voters  0.453540\n",
      "\n",
      "[100001 rows x 3 columns]>\n",
      "<bound method NDFrame.head of         id_autore agent_type     score\n",
      "0           93784     voters  0.872019\n",
      "1           40163     voters  0.545815\n",
      "2           73398     voters  0.694940\n",
      "3           18784     voters  0.354549\n",
      "4           48419     voters  0.569262\n",
      "...           ...        ...       ...\n",
      "99996       96668  left_bots  0.884013\n",
      "99997       96761  left_bots  0.885837\n",
      "99998       59825     voters  0.660590\n",
      "99999       24943     voters  0.473914\n",
      "100000      89069     voters  0.732055\n",
      "\n",
      "[100001 rows x 3 columns]>\n",
      "<bound method NDFrame.head of         id_autore agent_type     score\n",
      "0           13304     voters  0.225103\n",
      "1           13048     voters  0.264057\n",
      "2           44207     voters  0.455478\n",
      "3           59522     voters  0.588547\n",
      "4           72059     voters  0.583345\n",
      "...           ...        ...       ...\n",
      "99996       38836     voters  0.452797\n",
      "99997       44478     voters  0.497595\n",
      "99998       85086     voters  0.794676\n",
      "99999       37744     voters  0.517589\n",
      "100000      65467     voters  0.670011\n",
      "\n",
      "[100001 rows x 3 columns]>\n",
      "<bound method NDFrame.head of         id_autore agent_type     score\n",
      "0           82729     voters  0.800177\n",
      "1           86157     voters  0.726566\n",
      "2           68869     voters  0.615194\n",
      "3           88669     voters  0.758212\n",
      "4           54783     voters  0.626869\n",
      "...           ...        ...       ...\n",
      "99996       91711     voters  0.867098\n",
      "99997       68627     voters  0.678478\n",
      "99998       15934     voters  0.298639\n",
      "99999       10238     voters  0.236593\n",
      "100000      70379     voters  0.620118\n",
      "\n",
      "[100001 rows x 3 columns]>\n",
      "<bound method NDFrame.head of         id_autore agent_type     score\n",
      "0           13713     voters  0.211409\n",
      "1           74632     voters  0.691738\n",
      "2           41998     voters  0.489640\n",
      "3           35703     voters  0.518662\n",
      "4           46610     voters  0.680621\n",
      "...           ...        ...       ...\n",
      "99996       18991     voters  0.375407\n",
      "99997       35831     voters  0.455500\n",
      "99998       76995     voters  0.790537\n",
      "99999       43658     voters  0.541202\n",
      "100000      78532     voters  0.776634\n",
      "\n",
      "[100001 rows x 3 columns]>\n"
     ]
    }
   ],
   "source": [
    "for i in range(len(dataset)):\n",
    "    print(dataset[i].head)"
   ]
  },
  {
   "cell_type": "code",
   "execution_count": 49,
   "metadata": {},
   "outputs": [],
   "source": [
    "N_nodes = {}\n",
    "N_edges = {}\n",
    "fake_news = {}\n",
    "bias_right = {}\n",
    "right = {}\n",
    "right_leaning = {}\n",
    "center_news = {}\n",
    "left_leaning = {}\n",
    "left = {}\n",
    "bias_left = {}\n",
    "\n",
    "for j in range (len(G)):\n",
    "    N_nodes[str(j)] = [0]*8\n",
    "    N_edges[str(j)] = [0]*8\n",
    "    fake_news[j] = nx.DiGraph()\n",
    "    bias_right[j] = nx.DiGraph()\n",
    "    right[j] = nx.DiGraph()\n",
    "    right_leaning[j] = nx.DiGraph()\n",
    "    center_news[j] = nx.DiGraph()\n",
    "    left_leaning[j] = nx.DiGraph()\n",
    "    left[j] = nx.DiGraph()\n",
    "    bias_left[j] = nx.DiGraph()\n",
    "    \n",
    "    for i in range (len(dataset[j])):\n",
    "        if G[j].has_node(dataset[j]['id_autore'][i]):\n",
    "            if dataset[j]['score'][i] < 0.1:\n",
    "                N_nodes[str(j)][0] += 1\n",
    "                N_edges[str(j)][0] += G[j].degree(dataset[j]['id_autore'][i])\n",
    "                fake_news[j].add_node(dataset[j]['id_autore'][i])\n",
    "            if (dataset[j]['score'][i] < 0.2) and (dataset[j]['score'][i] > 0.1):\n",
    "                N_nodes[str(j)][1] += 1\n",
    "                N_edges[str(j)][1] += G[j].degree(dataset[j]['id_autore'][i])\n",
    "                bias_right[j].add_node(dataset[j]['id_autore'][i])\n",
    "            if (dataset[j]['score'][i] < 0.3) and (dataset[j]['score'][i] > 0.2):\n",
    "                N_nodes[str(j)][2] += 1\n",
    "                N_edges[str(j)][2] += G[j].degree(dataset[j]['id_autore'][i])\n",
    "                right[j].add_node(dataset[j]['id_autore'][i])\n",
    "            if (dataset[j]['score'][i] < 0.45) and (dataset[j]['score'][i] > 0.3):\n",
    "                N_nodes[str(j)][3] += 1\n",
    "                N_edges[str(j)][3] += G[j].degree(dataset[j]['id_autore'][i])\n",
    "                right_leaning[j].add_node(dataset[j]['id_autore'][i])\n",
    "            if (dataset[j]['score'][i] < 0.55) and (dataset[j]['score'][i] > 0.45):\n",
    "                N_nodes[str(j)][4] += 1\n",
    "                N_edges[str(j)][4] += G[j].degree(dataset[j]['id_autore'][i])\n",
    "                center_news[j].add_node(dataset[j]['id_autore'][i])\n",
    "            if (dataset[j]['score'][i] < 0.7) and (dataset[j]['score'][i] > 0.55):\n",
    "                N_nodes[str(j)][5] += 1\n",
    "                N_edges[str(j)][5] += G[j].degree(dataset[j]['id_autore'][i])\n",
    "                left_leaning[j].add_node(dataset[j]['id_autore'][i])\n",
    "            if (dataset[j]['score'][i] < 0.8) and (dataset[j]['score'][i] > 0.7):\n",
    "                N_nodes[str(j)][6] += 1\n",
    "                N_edges[str(j)][6] += G[j].degree(dataset[j]['id_autore'][i])\n",
    "                left[j].add_node(dataset[j]['id_autore'][i])\n",
    "            if (dataset[j]['score'][i] < 0.9) and (dataset[j]['score'][i] > 0.8):\n",
    "                N_nodes[str(j)][7] += 1\n",
    "                N_edges[str(j)][7] += G[j].degree(dataset[j]['id_autore'][i])\n",
    "                bias_left[j].add_node(dataset[j]['id_autore'][i])"
   ]
  },
  {
   "cell_type": "code",
   "execution_count": 14,
   "metadata": {},
   "outputs": [],
   "source": [
    "ok = True"
   ]
  },
  {
   "cell_type": "code",
   "execution_count": 15,
   "metadata": {},
   "outputs": [],
   "source": [
    "if ok == True:\n",
    "    for j in range (1):\n",
    "        for i in fake_news[j+1].node():\n",
    "            for k in fake_news[j+1].node():\n",
    "                if G[j+1].has_edge(i,k)==True:\n",
    "                    fake_news[j+1].add_edge(i,k)"
   ]
  },
  {
   "cell_type": "code",
   "execution_count": 16,
   "metadata": {},
   "outputs": [],
   "source": [
    "if ok == True:\n",
    "    for j in range (1):\n",
    "        for i in bias_right[j+1].node():\n",
    "            for k in bias_right[j+1].node():\n",
    "                if G[j+1].has_edge(i,k)==True:\n",
    "                    bias_right[j+1].add_edge(i,k)"
   ]
  },
  {
   "cell_type": "code",
   "execution_count": 17,
   "metadata": {},
   "outputs": [],
   "source": [
    "if ok == True:\n",
    "    for j in range (1):\n",
    "        for i in right[j+1].node():\n",
    "            for k in right[j+1].node():\n",
    "                if G[j+1].has_edge(i,k)==True:\n",
    "                    right[j+1].add_edge(i,k)"
   ]
  },
  {
   "cell_type": "code",
   "execution_count": 18,
   "metadata": {},
   "outputs": [],
   "source": [
    "if ok == True:\n",
    "    for j in range (1):\n",
    "        for i in right_leaning[j+1].node():\n",
    "            for k in right_leaning[j+1].node():\n",
    "                if G[j+1].has_edge(i,k)==True:\n",
    "                    right_leaning[j+1].add_edge(i,k)"
   ]
  },
  {
   "cell_type": "code",
   "execution_count": 19,
   "metadata": {},
   "outputs": [],
   "source": [
    "if ok == True:\n",
    "    for j in range (1):\n",
    "        for i in center_news[j+1].node():\n",
    "            for k in center_news[j+1].node():\n",
    "                if G[j+1].has_edge(i,k)==True:\n",
    "                    center_news[j+1].add_edge(i,k)"
   ]
  },
  {
   "cell_type": "code",
   "execution_count": 20,
   "metadata": {},
   "outputs": [],
   "source": [
    "if ok == True:\n",
    "    for j in range (1):\n",
    "        for i in left_leaning[j+1].node():\n",
    "            for k in left_leaning[j+1].node():\n",
    "                if G[j+1].has_edge(i,k)==True:\n",
    "                    left_leaning[j+1].add_edge(i,k)"
   ]
  },
  {
   "cell_type": "code",
   "execution_count": 21,
   "metadata": {},
   "outputs": [],
   "source": [
    "if ok == True:\n",
    "    for j in range (1):\n",
    "        for i in left[j+1].node():\n",
    "            for k in left[j+1].node():\n",
    "                if G[j+1].has_edge(i,k)==True:\n",
    "                    left[j+1].add_edge(i,k)"
   ]
  },
  {
   "cell_type": "code",
   "execution_count": 22,
   "metadata": {},
   "outputs": [],
   "source": [
    "if ok == True:\n",
    "    for j in range (1):\n",
    "        for i in bias_left[j+1].node():\n",
    "            for k in bias_left[j+1].node():\n",
    "                if G[j+1].has_edge(i,k)==True:\n",
    "                    bias_left[j+1].add_edge(i,k)"
   ]
  },
  {
   "cell_type": "code",
   "execution_count": 23,
   "metadata": {},
   "outputs": [
    {
     "name": "stdout",
     "output_type": "stream",
     "text": [
      "Fake-News Networks:\n",
      "The graph has 1124 connected components\n",
      "Bias-Right Networks:\n",
      "The graph has 6286 connected components\n",
      "Right Networks:\n",
      "The graph has 8064 connected components\n",
      "Right-Leaning Networks:\n",
      "The graph has 4576 connected components\n",
      "Center-News Networks:\n",
      "The graph has 14216 connected components\n",
      "Left-Leaning Networks:\n",
      "The graph has 13005 connected components\n",
      "Left Networks:\n",
      "The graph has 3747 connected components\n",
      "Bias-Left Networks:\n",
      "The graph has 607 connected components\n"
     ]
    }
   ],
   "source": [
    "if ok == True:\n",
    "    for j in range (1):\n",
    "        print('Fake-News Networks:')\n",
    "        print(\"The graph has\", \n",
    "              nx.number_strongly_connected_components(fake_news[j+1]),\n",
    "              \"connected components\")\n",
    "\n",
    "    for j in range (1):\n",
    "        print('Bias-Right Networks:')\n",
    "        print(\"The graph has\", \n",
    "              nx.number_strongly_connected_components(bias_right[j+1]),\n",
    "              \"connected components\")\n",
    "\n",
    "    for j in range (1):\n",
    "        print('Right Networks:')\n",
    "        print(\"The graph has\", \n",
    "              nx.number_strongly_connected_components(right[j+1]),\n",
    "              \"connected components\")\n",
    "    \n",
    "    for j in range (1):\n",
    "        print('Right-Leaning Networks:')\n",
    "        print(\"The graph has\", \n",
    "              nx.number_strongly_connected_components(right_leaning[j+1]),\n",
    "              \"connected components\")\n",
    "    \n",
    "    for j in range (1):\n",
    "        print('Center-News Networks:')\n",
    "        print(\"The graph has\", \n",
    "              nx.number_strongly_connected_components(center_news[j+1]),\n",
    "              \"connected components\")\n",
    "        \n",
    "    for j in range (1):\n",
    "        print('Left-Leaning Networks:')\n",
    "        print(\"The graph has\", \n",
    "              nx.number_strongly_connected_components(left_leaning[j+1]),\n",
    "              \"connected components\")\n",
    "        \n",
    "    for j in range (1):\n",
    "        print('Left Networks:')\n",
    "        print(\"The graph has\", \n",
    "              nx.number_strongly_connected_components(left[j+1]),\n",
    "              \"connected components\")\n",
    "        \n",
    "    for j in range (1):\n",
    "        print('Bias-Left Networks:')\n",
    "        print(\"The graph has\", \n",
    "              nx.number_strongly_connected_components(bias_left[j+1]),\n",
    "              \"connected components\")"
   ]
  },
  {
   "cell_type": "code",
   "execution_count": 50,
   "metadata": {},
   "outputs": [
    {
     "name": "stdout",
     "output_type": "stream",
     "text": [
      "\n",
      "\n",
      "The  1  K_mean value is:  6.073221757322176\n",
      "The  2  K_mean value is:  5.4194687289845325\n",
      "The  3  K_mean value is:  5.477353463587922\n",
      "The  4  K_mean value is:  4.281036834924966\n",
      "The  5  K_mean value is:  3.797378060535955\n",
      "The  6  K_mean value is:  8.580557301487534\n",
      "The  7  K_mean value is:  385.6904761904762\n",
      "The  8  K_mean value is:  2.5\n",
      "\n",
      "\n",
      "The  1  K_mean value is:  55.63256227758007\n",
      "The  2  K_mean value is:  10.80989500477251\n",
      "The  3  K_mean value is:  9.297867063492063\n",
      "The  4  K_mean value is:  9.731206293706293\n",
      "The  5  K_mean value is:  7.658202025886325\n",
      "The  6  K_mean value is:  8.580161476355247\n",
      "The  7  K_mean value is:  17.960768614891915\n",
      "The  8  K_mean value is:  127.90939044481054\n",
      "\n",
      "\n",
      "The  1  K_mean value is:  6.068965517241379\n",
      "The  2  K_mean value is:  3.9151526865094706\n",
      "The  3  K_mean value is:  3.505880007972892\n",
      "The  4  K_mean value is:  6.5846736045411545\n",
      "The  5  K_mean value is:  14.268782383419689\n",
      "The  6  K_mean value is:  8.0\n",
      "The  7  K_mean value is:  2.0\n",
      "The  8  K_mean value is:  1.5\n",
      "\n",
      "\n",
      "The  1  K_mean value is:  33.79366438356164\n",
      "The  2  K_mean value is:  4.488936239960662\n",
      "The  3  K_mean value is:  4.063909234525348\n",
      "The  4  K_mean value is:  4.6257747933884295\n",
      "The  5  K_mean value is:  5.397098015990524\n",
      "The  6  K_mean value is:  11.916176846409405\n",
      "The  7  K_mean value is:  2.0\n",
      "The  8  K_mean value is:  1.0\n",
      "\n",
      "\n",
      "The  1  K_mean value is:  48.03986429177269\n",
      "The  2  K_mean value is:  10.152946828955798\n",
      "The  3  K_mean value is:  8.53125393032323\n",
      "The  4  K_mean value is:  7.925094465436763\n",
      "The  5  K_mean value is:  7.36421038023869\n",
      "The  6  K_mean value is:  9.965258964143427\n",
      "The  7  K_mean value is:  7.06062734082397\n",
      "The  8  K_mean value is:  61.79134295227525\n",
      "\n",
      "\n",
      "The  1  K_mean value is:  46.645899893503724\n",
      "The  2  K_mean value is:  9.560690868383176\n",
      "The  3  K_mean value is:  6.5725962870601276\n",
      "The  4  K_mean value is:  5.803006506618802\n",
      "The  5  K_mean value is:  6.142233936199219\n",
      "The  6  K_mean value is:  4.8125678610206295\n",
      "The  7  K_mean value is:  11.070063694267516\n",
      "The  8  K_mean value is:  3.2\n",
      "\n",
      "\n",
      "The  1  K_mean value is:  6.256360078277886\n",
      "The  2  K_mean value is:  5.0323435843054085\n",
      "The  3  K_mean value is:  3.4805538270068452\n",
      "The  4  K_mean value is:  2.4834476588130032\n",
      "The  5  K_mean value is:  3.120975022569967\n",
      "The  6  K_mean value is:  5.376189469232396\n",
      "The  7  K_mean value is:  388.4938271604938\n",
      "The  8  K_mean value is:  1.0\n",
      "\n",
      "\n",
      "The  1  K_mean value is:  23.943381180223284\n",
      "The  2  K_mean value is:  4.509632224168126\n",
      "The  3  K_mean value is:  4.378594830724427\n",
      "The  4  K_mean value is:  6.6935022476501835\n",
      "The  5  K_mean value is:  5.720334101382488\n",
      "The  6  K_mean value is:  8.5\n",
      "The  7  K_mean value is:  2.5\n",
      "The  8  K_mean value is:  1.0\n",
      "\n",
      "\n",
      "The  1  K_mean value is:  6.122787610619469\n",
      "The  2  K_mean value is:  5.447138047138047\n",
      "The  3  K_mean value is:  5.20454840805718\n",
      "The  4  K_mean value is:  4.418662449164031\n",
      "The  5  K_mean value is:  5.170341286620356\n",
      "The  6  K_mean value is:  5.865065751858205\n",
      "The  7  K_mean value is:  19.18780055682106\n",
      "The  8  K_mean value is:  148.12680115273776\n",
      "\n",
      "\n",
      "The  1  K_mean value is:  72.56648199445983\n",
      "The  2  K_mean value is:  8.3248683803035\n",
      "The  3  K_mean value is:  7.074788451966152\n",
      "The  4  K_mean value is:  7.5415169660678645\n",
      "The  5  K_mean value is:  7.471498371335505\n",
      "The  6  K_mean value is:  7.170836531082118\n",
      "The  7  K_mean value is:  7.671868319794784\n",
      "The  8  K_mean value is:  55.05734144222415\n"
     ]
    }
   ],
   "source": [
    "K_mean = {}\n",
    "voters_type = 8\n",
    "\n",
    "for j in range (len(G)):\n",
    "    K_mean[str(j)] = []\n",
    "    print('\\n')\n",
    "    for i in range (voters_type):\n",
    "        if N_nodes[str(j)][i] != 0:\n",
    "            K_mean[str(j)].append(N_edges[str(j)][i]/N_nodes[str(j)][i])\n",
    "            print(\"The \", i+1, \" K_mean value is: \",K_mean[str(j)][i])\n",
    "        else:\n",
    "            K_mean[str(j)].append(str('Node do not exist'))\n",
    "            print(\"The \", i+1, \" K_mean value is: \",K_mean[str(j)][i])"
   ]
  },
  {
   "cell_type": "code",
   "execution_count": 25,
   "metadata": {},
   "outputs": [],
   "source": [
    "import pydot\n",
    "from networkx.drawing.nx_pydot import write_dot\n",
    "oks = False\n",
    "\n",
    "if oks == True:\n",
    "    for j in range (1):\n",
    "        write_dot(fake_news[j],'C:/Users/Proprietario/Desktop/SLAPP/SLAPP3-master/6 objectSwarmObserverAgents_AESOP_turtleLib_NetworkX/Analisi 2/fake-news' + str(j) + '.dot')\n",
    "\n",
    "    for j in range (1):\n",
    "        write_dot(bias_right[j],'C:/Users/Proprietario/Desktop/SLAPP/SLAPP3-master/6 objectSwarmObserverAgents_AESOP_turtleLib_NetworkX/Analisi 2/bias-right' + str(j) + '.dot')\n",
    "\n",
    "    for j in range (1):\n",
    "        write_dot(right[j],'C:/Users/Proprietario/Desktop/SLAPP/SLAPP3-master/6 objectSwarmObserverAgents_AESOP_turtleLib_NetworkX/Analisi 2/right' + str(j) + '.dot')\n",
    "\n",
    "    for j in range (1):\n",
    "        write_dot(right_leaning[j],'C:/Users/Proprietario/Desktop/SLAPP/SLAPP3-master/6 objectSwarmObserverAgents_AESOP_turtleLib_NetworkX/Analisi 2/right-leaning' + str(j) + '.dot')\n",
    "\n",
    "    for j in range (1):\n",
    "        write_dot(center_news[j],'C:/Users/Proprietario/Desktop/SLAPP/SLAPP3-master/6 objectSwarmObserverAgents_AESOP_turtleLib_NetworkX/Analisi 2/center-news' + str(j) + '.dot')\n",
    "\n",
    "    for j in range (1):\n",
    "        write_dot(left_leaning[j],'C:/Users/Proprietario/Desktop/SLAPP/SLAPP3-master/6 objectSwarmObserverAgents_AESOP_turtleLib_NetworkX/Analisi 2/left-leaning' + str(j) + '.dot')\n",
    "\n",
    "    for j in range (1):\n",
    "        write_dot(left[j],'C:/Users/Proprietario/Desktop/SLAPP/SLAPP3-master/6 objectSwarmObserverAgents_AESOP_turtleLib_NetworkX/Analisi 2/left' + str(j) + '.dot')\n",
    "\n",
    "    for j in range (1):\n",
    "        write_dot(bias_left[j],'C:/Users/Proprietario/Desktop/SLAPP/SLAPP3-master/6 objectSwarmObserverAgents_AESOP_turtleLib_NetworkX/Analisi 2/bias-left' + str(j) + '.dot')"
   ]
  },
  {
   "cell_type": "code",
   "execution_count": 26,
   "metadata": {},
   "outputs": [],
   "source": [
    "nx.write_graphml_lxml(fake_news[1], \"fake_news.graphml\")\n",
    "nx.write_graphml_lxml(bias_right[1], \"bias_right.graphml\")\n",
    "nx.write_graphml_lxml(right[1], \"right.graphml\")\n",
    "nx.write_graphml_lxml(right_leaning[1], \"right_leaning.graphml\")\n",
    "nx.write_graphml_lxml(center_news[1], \"center_news.graphml\")\n",
    "nx.write_graphml_lxml(left_leaning[1], \"left_leaning.graphml\")\n",
    "nx.write_graphml_lxml(left[1], \"left.graphml\")\n",
    "nx.write_graphml_lxml(bias_left[1], \"bias_left.graphml\")"
   ]
  },
  {
   "cell_type": "code",
   "execution_count": 51,
   "metadata": {},
   "outputs": [
    {
     "name": "stdout",
     "output_type": "stream",
     "text": [
      "The  1 k-final is:  30.514318898456214 +- 23.23564598548564\n",
      "The  2 k-final is:  6.766107259348123 +- 2.510508243121859\n",
      "The  3 k-final is:  5.758734550471618 +- 1.9502735332976482\n",
      "The  4 k-final is:  6.008792182031149 +- 2.014325787111302\n",
      "The  5 k-final is:  6.611105358417872 +- 2.9275394448216905\n",
      "The  6 k-final is:  7.8766814201588975 +- 2.0557189722858134\n",
      "The  7 k-final is:  84.36354318775693 +- 151.47567138175097\n",
      "The  8 k-final is:  40.30848759920477 +- 53.78274869220111\n"
     ]
    }
   ],
   "source": [
    "for i in range (8):\n",
    "    k_final = 0\n",
    "    K_final = []\n",
    "    \n",
    "    for j in range (len(G)):\n",
    "        K_final.append(K_mean[str(j)][i])\n",
    "    print(\"The \", i+1, \"k-final is: \", np.mean(K_final), \"+-\", np.std(K_final))"
   ]
  },
  {
   "cell_type": "code",
   "execution_count": null,
   "metadata": {},
   "outputs": [],
   "source": []
  }
 ],
 "metadata": {
  "kernelspec": {
   "display_name": "Python 3",
   "language": "python",
   "name": "python3"
  },
  "language_info": {
   "codemirror_mode": {
    "name": "ipython",
    "version": 3
   },
   "file_extension": ".py",
   "mimetype": "text/x-python",
   "name": "python",
   "nbconvert_exporter": "python",
   "pygments_lexer": "ipython3",
   "version": "3.7.4"
  }
 },
 "nbformat": 4,
 "nbformat_minor": 2
}
