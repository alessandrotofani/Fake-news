{
 "cells": [
  {
   "cell_type": "code",
   "execution_count": 1,
   "metadata": {},
   "outputs": [
    {
     "name": "stdout",
     "output_type": "stream",
     "text": [
      "Populating the interactive namespace from numpy and matplotlib\n"
     ]
    }
   ],
   "source": [
    "import networkx as nx\n",
    "import seaborn as sns\n",
    "import pandas as pd\n",
    "import glob\n",
    "import ast\n",
    "\n",
    "%pylab inline"
   ]
  },
  {
   "cell_type": "code",
   "execution_count": 2,
   "metadata": {},
   "outputs": [],
   "source": [
    "filepath = r\"C:\\Users\\Proprietario\\Desktop\\SLAPP\\SLAPP3-master\\6 objectSwarmObserverAgents_AESOP_turtleLib_NetworkX\\Analisi 2\" # use your path\n",
    "all_files = glob.glob(filepath + \"/*.txt\")\n",
    "G = {}\n",
    "j = 0\n",
    "\n",
    "for filename in all_files:\n",
    "    G[j]=nx.DiGraph()\n",
    "    fh=open(filename,'r')\n",
    "    for i, line in enumerate(fh):\n",
    "        s=line.strip()\n",
    "        s=s.strip(\";\").split()\n",
    "        if (i>6) and (s[0] != 'label') and (s[0] != '}') and (s[1] != '[style=filled,'):\n",
    "            origin=int(s[0])\n",
    "            dest=int(s[2])\n",
    "            G[j].add_edge(origin,dest)\n",
    "    fh.close()\n",
    "    j += 1"
   ]
  },
  {
   "cell_type": "code",
   "execution_count": 3,
   "metadata": {},
   "outputs": [
    {
     "name": "stdout",
     "output_type": "stream",
     "text": [
      "The network has 100000 nodes and 2608463 links.\n",
      "The network has 100000 nodes and 2490228 links.\n",
      "The network has 100000 nodes and 216000 links.\n",
      "The network has 100000 nodes and 217859 links.\n"
     ]
    }
   ],
   "source": [
    "for i in range (len(G)):\n",
    "    print('The network has', len(G[i]), 'nodes and', len(G[i].edges()), 'links.')"
   ]
  },
  {
   "cell_type": "code",
   "execution_count": 4,
   "metadata": {},
   "outputs": [
    {
     "name": "stdout",
     "output_type": "stream",
     "text": [
      "Is the graph simply connected? False\n",
      "Is the graph simply connected? False\n",
      "Is the graph simply connected? False\n",
      "Is the graph simply connected? False\n"
     ]
    }
   ],
   "source": [
    "for i in range (len(G)):\n",
    "    print(\"Is the graph simply connected?\", nx.is_strongly_connected(G[i]))"
   ]
  },
  {
   "cell_type": "markdown",
   "metadata": {},
   "source": [
    "### Show the components of the graph"
   ]
  },
  {
   "cell_type": "code",
   "execution_count": 5,
   "metadata": {},
   "outputs": [
    {
     "name": "stdout",
     "output_type": "stream",
     "text": [
      "The graph has 94609 connected components\n",
      "The graph has 74049 connected components\n",
      "The graph has 100000 connected components\n",
      "The graph has 99972 connected components\n"
     ]
    }
   ],
   "source": [
    "for i in range (len(G)):\n",
    "    print(\"The graph has\", nx.number_strongly_connected_components(G[i]),\"connected components\")"
   ]
  },
  {
   "cell_type": "markdown",
   "metadata": {},
   "source": [
    "### Extract the largest Connected Component as a subgraph"
   ]
  },
  {
   "cell_type": "code",
   "execution_count": 6,
   "metadata": {},
   "outputs": [
    {
     "data": {
      "text/plain": [
       "4"
      ]
     },
     "execution_count": 6,
     "metadata": {},
     "output_type": "execute_result"
    }
   ],
   "source": [
    "len(G)"
   ]
  },
  {
   "cell_type": "code",
   "execution_count": 7,
   "metadata": {},
   "outputs": [],
   "source": [
    "graphs = {}\n",
    "\n",
    "for i in range (len(G)):\n",
    "    graphs[i] = []\n",
    "    for c in nx.strongly_connected_components(G[i]):\n",
    "        graphs[i].append(G[i].subgraph(c))"
   ]
  },
  {
   "cell_type": "code",
   "execution_count": 8,
   "metadata": {},
   "outputs": [],
   "source": [
    "H = {}\n",
    "\n",
    "for i in range (len(G)):\n",
    "    H[i] = graphs[i][0]"
   ]
  },
  {
   "cell_type": "code",
   "execution_count": 9,
   "metadata": {},
   "outputs": [
    {
     "name": "stdout",
     "output_type": "stream",
     "text": [
      "5392\n",
      "25952\n",
      "1\n",
      "29\n"
     ]
    }
   ],
   "source": [
    "for i in range (len(G)):\n",
    "    print(len(H[i]))"
   ]
  },
  {
   "cell_type": "code",
   "execution_count": 10,
   "metadata": {},
   "outputs": [
    {
     "name": "stdout",
     "output_type": "stream",
     "text": [
      "94608\n",
      "74048\n",
      "99999\n",
      "99971\n"
     ]
    }
   ],
   "source": [
    "for i in range (len(G)):\n",
    "    print(len(G[i])-len(H[i]))"
   ]
  },
  {
   "cell_type": "code",
   "execution_count": 11,
   "metadata": {},
   "outputs": [
    {
     "name": "stdout",
     "output_type": "stream",
     "text": [
      "Check that the graph is now connected\n",
      "1\n",
      "Check that the graph is now connected\n",
      "1\n",
      "Check that the graph is now connected\n",
      "1\n",
      "Check that the graph is now connected\n",
      "1\n"
     ]
    }
   ],
   "source": [
    "for i in range (len(G)):\n",
    "    print(\"Check that the graph is now connected\")\n",
    "    print(nx.number_strongly_connected_components(H[i]))"
   ]
  },
  {
   "cell_type": "markdown",
   "metadata": {},
   "source": [
    "## Clustering"
   ]
  },
  {
   "cell_type": "code",
   "execution_count": 12,
   "metadata": {},
   "outputs": [],
   "source": [
    "files = glob.glob(filepath + \"/*.csv\")\n",
    "dataset = {}\n",
    "j = 0\n",
    "\n",
    "for filename in files:\n",
    "    dataset[j] = pd.read_csv(filename, encoding=\"utf8\")\n",
    "    j += 1"
   ]
  },
  {
   "cell_type": "code",
   "execution_count": 13,
   "metadata": {},
   "outputs": [
    {
     "name": "stdout",
     "output_type": "stream",
     "text": [
      "<bound method NDFrame.head of        id_autore agent_type     score\n",
      "0          85039     voters  0.701116\n",
      "1          18424     voters  0.406200\n",
      "2          52544     voters  0.585830\n",
      "3          20548     voters  0.432671\n",
      "4          92041     voters  0.853926\n",
      "...          ...        ...       ...\n",
      "95991      55385     voters  0.565925\n",
      "95992      33615     voters  0.462427\n",
      "95993      72562     voters  0.688417\n",
      "95994      89969     voters  0.769817\n",
      "95995      62141     voters  0.620902\n",
      "\n",
      "[95996 rows x 3 columns]>\n",
      "<bound method NDFrame.head of        id_autore agent_type     score\n",
      "0          94365     voters  0.802930\n",
      "1          14096     voters  0.251478\n",
      "2          76568     voters  0.731924\n",
      "3          18216     voters  0.386483\n",
      "4          32988     voters  0.532823\n",
      "...          ...        ...       ...\n",
      "95991       5658     voters  0.146529\n",
      "95992      25948     voters  0.525133\n",
      "95993       5148     voters  0.104954\n",
      "95994       8042     voters  0.213098\n",
      "95995      56542     voters  0.552162\n",
      "\n",
      "[95996 rows x 3 columns]>\n",
      "<bound method NDFrame.head of        id_autore agent_type     score\n",
      "0          14371     voters  0.291579\n",
      "1          36213     voters  0.538350\n",
      "2          71556     voters  0.658812\n",
      "3          53211     voters  0.564951\n",
      "4            922     voters  0.001642\n",
      "...          ...        ...       ...\n",
      "95991      16950     voters  0.266572\n",
      "95992      31449     voters  0.505916\n",
      "95993      88020     voters  0.765577\n",
      "95994      63987     voters  0.694659\n",
      "95995      26204     voters  0.537381\n",
      "\n",
      "[95996 rows x 3 columns]>\n",
      "<bound method NDFrame.head of        id_autore agent_type     score\n",
      "0          46206     voters  0.682895\n",
      "1          92711     voters  0.826546\n",
      "2          35415     voters  0.455634\n",
      "3          53309     voters  0.689338\n",
      "4          24359     voters  0.525264\n",
      "...          ...        ...       ...\n",
      "95991      20207     voters  0.377125\n",
      "95992      48030     voters  0.635040\n",
      "95993      11602     voters  0.211906\n",
      "95994      21476     voters  0.414594\n",
      "95995       4234     voters  0.186267\n",
      "\n",
      "[95996 rows x 3 columns]>\n"
     ]
    }
   ],
   "source": [
    "for i in range(len(dataset)):\n",
    "    print(dataset[i].head)"
   ]
  },
  {
   "cell_type": "code",
   "execution_count": 14,
   "metadata": {},
   "outputs": [
    {
     "data": {
      "text/plain": [
       "0        0.701116\n",
       "1        0.406200\n",
       "2        0.585830\n",
       "3        0.432671\n",
       "4        0.853926\n",
       "           ...   \n",
       "95991    0.565925\n",
       "95992    0.462427\n",
       "95993    0.688417\n",
       "95994    0.769817\n",
       "95995    0.620902\n",
       "Name: score, Length: 95996, dtype: float64"
      ]
     },
     "execution_count": 14,
     "metadata": {},
     "output_type": "execute_result"
    }
   ],
   "source": [
    "dataset[0]['score']"
   ]
  },
  {
   "cell_type": "code",
   "execution_count": 22,
   "metadata": {},
   "outputs": [],
   "source": [
    "N_nodes = {}\n",
    "N_edges = {}\n",
    "\n",
    "for j in range (len(G)):\n",
    "    N_nodes[str(j)] = [0]*8\n",
    "    N_edges[str(j)] = [0]*8\n",
    "    \n",
    "    for i in range (len(dataset[j])):\n",
    "        if dataset[j]['score'][i] < 0.1:\n",
    "            N_nodes[str(j)][0] += 1\n",
    "            N_edges[str(j)][0] += G[j].out_degree(dataset[j]['id_autore'][i])\n",
    "        if (dataset[j]['score'][i] < 0.2) and (dataset[j]['score'][i] > 0.1):\n",
    "            N_nodes[str(j)][1] += 1\n",
    "            N_edges[str(j)][1] += G[j].out_degree(dataset[j]['id_autore'][i])\n",
    "        if (dataset[j]['score'][i] < 0.3) and (dataset[j]['score'][i] > 0.2):\n",
    "            N_nodes[str(j)][2] += 1\n",
    "            N_edges[str(j)][2] += G[j].out_degree(dataset[j]['id_autore'][i])\n",
    "        if (dataset[j]['score'][i] < 0.45) and (dataset[j]['score'][i] > 0.3):\n",
    "            N_nodes[str(j)][3] += 1\n",
    "            N_edges[str(j)][3] += G[j].out_degree(dataset[j]['id_autore'][i])\n",
    "        if (dataset[j]['score'][i] < 0.55) and (dataset[j]['score'][i] > 0.45):\n",
    "            N_nodes[str(j)][4] += 1\n",
    "            N_edges[str(j)][4] += G[j].out_degree(dataset[j]['id_autore'][i])\n",
    "        if (dataset[j]['score'][i] < 0.7) and (dataset[j]['score'][i] > 0.55):\n",
    "            N_nodes[str(j)][5] += 1\n",
    "            N_edges[str(j)][5] += G[j].out_degree(dataset[j]['id_autore'][i])\n",
    "        if (dataset[j]['score'][i] < 0.8) and (dataset[j]['score'][i] > 0.7):\n",
    "            N_nodes[str(j)][6] += 1\n",
    "            N_edges[str(j)][6] += G[j].out_degree(dataset[j]['id_autore'][i])\n",
    "        if (dataset[j]['score'][i] < 0.9) and (dataset[j]['score'][i] > 0.8):\n",
    "            N_nodes[str(j)][7] += 1\n",
    "            N_edges[str(j)][7] += G[j].out_degree(dataset[j]['id_autore'][i])"
   ]
  },
  {
   "cell_type": "code",
   "execution_count": 19,
   "metadata": {},
   "outputs": [
    {
     "name": "stdout",
     "output_type": "stream",
     "text": [
      "\n",
      "\n",
      "The  1  K_mean value is:  4.547695605573419\n",
      "The  2  K_mean value is:  8.34882657726303\n",
      "The  3  K_mean value is:  12.806616572740555\n",
      "The  4  K_mean value is:  15.447368421052632\n",
      "The  5  K_mean value is:  20.138692850567658\n",
      "The  6  K_mean value is:  27.956890313243047\n",
      "The  7  K_mean value is:  39.65531088082901\n",
      "The  8  K_mean value is:  46.081813444502345\n",
      "\n",
      "\n",
      "The  1  K_mean value is:  4.815766923736075\n",
      "The  2  K_mean value is:  7.916654330125833\n",
      "The  3  K_mean value is:  11.836350085178875\n",
      "The  4  K_mean value is:  15.403733955659277\n",
      "The  5  K_mean value is:  17.80280377977907\n",
      "The  6  K_mean value is:  27.310069964147726\n",
      "The  7  K_mean value is:  34.21848576776609\n",
      "The  8  K_mean value is:  38.683585129859104\n",
      "\n",
      "\n",
      "The  1  K_mean value is:  2.115625\n",
      "The  2  K_mean value is:  2.1203689927094183\n",
      "The  3  K_mean value is:  2.1606584705146905\n",
      "The  4  K_mean value is:  2.1758680555555556\n",
      "The  5  K_mean value is:  2.164670138888889\n",
      "The  6  K_mean value is:  2.150451388888889\n",
      "The  7  K_mean value is:  2.1549479166666665\n",
      "The  8  K_mean value is:  2.1881188118811883\n",
      "\n",
      "\n",
      "The  1  K_mean value is:  2.1237006237006235\n",
      "The  2  K_mean value is:  2.1791933323411223\n",
      "The  3  K_mean value is:  2.2221296103354864\n",
      "The  4  K_mean value is:  2.1835069444444444\n",
      "The  5  K_mean value is:  2.1417534722222222\n",
      "The  6  K_mean value is:  2.1648958333333335\n",
      "The  7  K_mean value is:  2.205924479166667\n",
      "The  8  K_mean value is:  2.2162584679520583\n"
     ]
    }
   ],
   "source": [
    "K_mean = {}\n",
    "voters_type = 8\n",
    "\n",
    "for j in range (len(G)):\n",
    "    K_mean[str(j)] = []\n",
    "    print('\\n')\n",
    "    for i in range (voters_type):\n",
    "        K_mean[str(j)].append(N_edges[str(j)][i]/N_nodes[str(j)][i])\n",
    "        print(\"The \", i+1, \" K_mean value is: \",K_mean[str(j)][i])"
   ]
  },
  {
   "cell_type": "code",
   "execution_count": null,
   "metadata": {},
   "outputs": [],
   "source": []
  }
 ],
 "metadata": {
  "kernelspec": {
   "display_name": "Python 3",
   "language": "python",
   "name": "python3"
  },
  "language_info": {
   "codemirror_mode": {
    "name": "ipython",
    "version": 3
   },
   "file_extension": ".py",
   "mimetype": "text/x-python",
   "name": "python",
   "nbconvert_exporter": "python",
   "pygments_lexer": "ipython3",
   "version": "3.7.4"
  }
 },
 "nbformat": 4,
 "nbformat_minor": 2
}
