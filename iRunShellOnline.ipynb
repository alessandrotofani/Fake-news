{
 "cells": [
  {
   "cell_type": "code",
   "execution_count": 1,
   "metadata": {
    "scrolled": true
   },
   "outputs": [
    {
     "name": "stdout",
     "output_type": "stream",
     "text": [
      "\n",
      "SLAPP v3.3.8 build 20200411\n",
      "\n",
      "Project name? Fake-news\n",
      "SLAPP starting without any matplotlib magic command\n",
      "'%matplotlib inline' magic command NOW SET\n",
      "running in IPython\n",
      "debug = False\n",
      "Matplotlib version 3.1.3 running\n",
      "\n",
      "No 'bland' agents\n",
      "X size of the world not relevant\n",
      "y size of the world not relevant\n",
      "How many cycles? (0 = exit) 3\n",
      "\n",
      "Agents and their classes\n",
      "agents voters have class Agent\n",
      "agents left_bots have class Agent\n",
      "agents right_bots have class Agent\n",
      "agents left_broadcasters have class Agent\n",
      "agents breitbart have class Agent\n",
      "'bland' agents, if any, have always class Agent\n",
      "\n",
      "Warning: operating sets not found.\n",
      "\n",
      "File voters converted: .txtx => .txt\n",
      "\n",
      "File left_bots converted: .txtx => .txt\n",
      "\n",
      "File right_bots converted: .txtx => .txt\n",
      "\n",
      "File left_broadcasters converted: .txtx => .txt\n",
      "\n",
      "\n",
      " Network created\n",
      "Creating the network with  100000  agents.\n",
      "Voters and broadcasters:  96000\n",
      "Bots:  4000\n",
      "\n",
      "#### Project ./Fake-news starting.\n",
      "\n",
      "Time = 1\n",
      "methodProbabilities = {'bot_create_news': [0.001]}\n",
      "Time = 2\n",
      "Agent  3792  of type  voters  creating news  0  with score  0.1545046477987702\n",
      "Agent  79288  of type  voters  creating news  1  with score  0.7209588857280653\n",
      "Agent  727  of type  voters  creating news  2  with score  0.07534413666949778\n",
      "Agent  22612  of type  voters  creating news  3  with score  0.3060210099506056\n",
      "Agent  40714  of type  voters  creating news  4  with score  0.4866143534735858\n",
      "Agent  458  of type  voters  creating news  5  with score  0.02293649538922018\n",
      "Agent  8988  of type  voters  creating news  6  with score  0.2602727482051802\n",
      "Agent  5667  of type  voters  creating news  7  with score  0.16045594824699996\n",
      "Agent  64419  of type  voters  creating news  8  with score  0.5815154846519114\n",
      "Agent  94554  of type  voters  creating news  9  with score  0.847864521741315\n",
      "Agent  97118  of type  right_bots  creating news  10  with score  0.0885443383817754\n",
      "Agent  97464  of type  right_bots  creating news  11  with score  0.04015965688496971\n",
      "Agent  98371  of type  right_bots  creating news  12  with score  0.04742275786911019\n",
      "Agent  0  of type  breitbart  creating news  13  with score  0.02\n",
      "Time = 3\n",
      "Agent  8943  of type  voters  creating news  14  with score  0.29340493517029465\n",
      "Agent  5923  of type  voters  creating news  15  with score  0.18205447744656\n",
      "Agent  258  of type  voters  creating news  16  with score  0.061385496975141396\n",
      "Agent  79359  of type  voters  creating news  17  with score  0.7795660482140779\n",
      "Agent  7635  of type  voters  creating news  18  with score  0.10171321859559695\n",
      "Agent  22164  of type  voters  creating news  19  with score  0.373900686877695\n",
      "Agent  47757  of type  voters  creating news  20  with score  0.6968404353085477\n",
      "Agent  93382  of type  voters  creating news  21  with score  0.896633855425933\n",
      "Agent  31012  of type  voters  creating news  22  with score  0.470322350864897\n",
      "Agent  546  of type  voters  creating news  23  with score  0.074922092839314\n",
      "Agent  99036  of type  right_bots  creating news  24  with score  0.07913110415402395\n",
      "Agent  98180  of type  right_bots  creating news  25  with score  0.08242884473391154\n",
      "Agent  0  of type  breitbart  creating news  26  with score  0.02\n",
      "Time = 4\n",
      "enter to conclude\n"
     ]
    },
    {
     "ename": "NameError",
     "evalue": "name 'pd' is not defined",
     "output_type": "error",
     "traceback": [
      "\u001b[1;31m---------------------------------------------------------------------------\u001b[0m",
      "\u001b[1;31mNameError\u001b[0m                                 Traceback (most recent call last)",
      "\u001b[1;32m~\\snap_github\\Fake-news\\runShell.py\u001b[0m in \u001b[0;36m<module>\u001b[1;34m\u001b[0m\n\u001b[0;32m      7\u001b[0m \u001b[1;32mimport\u001b[0m \u001b[0mstart\u001b[0m\u001b[1;33m\u001b[0m\u001b[1;33m\u001b[0m\u001b[0m\n\u001b[0;32m      8\u001b[0m \u001b[1;33m\u001b[0m\u001b[0m\n\u001b[1;32m----> 9\u001b[1;33m \u001b[0mstart\u001b[0m\u001b[1;33m.\u001b[0m\u001b[0mrunSLAPP\u001b[0m\u001b[1;33m(\u001b[0m\u001b[1;33m)\u001b[0m\u001b[1;33m\u001b[0m\u001b[1;33m\u001b[0m\u001b[0m\n\u001b[0m\u001b[0;32m     10\u001b[0m \u001b[1;33m\u001b[0m\u001b[0m\n\u001b[0;32m     11\u001b[0m \u001b[0mos\u001b[0m\u001b[1;33m.\u001b[0m\u001b[0mchdir\u001b[0m\u001b[1;33m(\u001b[0m\u001b[0mstart\u001b[0m\u001b[1;33m.\u001b[0m\u001b[0mstart_pyDir\u001b[0m\u001b[1;33m)\u001b[0m  \u001b[1;31m# folder of start.py\u001b[0m\u001b[1;33m\u001b[0m\u001b[1;33m\u001b[0m\u001b[0m\n",
      "\u001b[1;32m~\\snap_github\\Fake-news\\start.py\u001b[0m in \u001b[0;36mrunSLAPP\u001b[1;34m()\u001b[0m\n\u001b[0;32m    124\u001b[0m \u001b[1;33m\u001b[0m\u001b[0m\n\u001b[0;32m    125\u001b[0m         \u001b[1;31m# run\u001b[0m\u001b[1;33m\u001b[0m\u001b[1;33m\u001b[0m\u001b[1;33m\u001b[0m\u001b[0m\n\u001b[1;32m--> 126\u001b[1;33m         \u001b[0mobserverSwarm\u001b[0m\u001b[1;33m.\u001b[0m\u001b[0mrun\u001b[0m\u001b[1;33m(\u001b[0m\u001b[1;33m)\u001b[0m\u001b[1;33m\u001b[0m\u001b[1;33m\u001b[0m\u001b[0m\n\u001b[0m\u001b[0;32m    127\u001b[0m \u001b[1;33m\u001b[0m\u001b[0m\n\u001b[0;32m    128\u001b[0m         \u001b[1;32mif\u001b[0m \u001b[0mcommon\u001b[0m\u001b[1;33m.\u001b[0m\u001b[0mIPython\u001b[0m\u001b[1;33m:\u001b[0m\u001b[1;33m\u001b[0m\u001b[1;33m\u001b[0m\u001b[0m\n",
      "\u001b[1;32m~\\snap_github\\Fake-news\\$$slapp$$\\ObserverSwarm.py\u001b[0m in \u001b[0;36mrun\u001b[1;34m(self)\u001b[0m\n\u001b[0;32m    174\u001b[0m                     \u001b[1;32mexcept\u001b[0m \u001b[0mBaseException\u001b[0m\u001b[1;33m:\u001b[0m\u001b[1;33m\u001b[0m\u001b[1;33m\u001b[0m\u001b[0m\n\u001b[0;32m    175\u001b[0m                         \u001b[0mtmp\u001b[0m \u001b[1;33m=\u001b[0m \u001b[1;34m\"\"\u001b[0m\u001b[1;33m\u001b[0m\u001b[1;33m\u001b[0m\u001b[0m\n\u001b[1;32m--> 176\u001b[1;33m                     \u001b[0mexec\u001b[0m\u001b[1;33m(\u001b[0m\u001b[0mtmp\u001b[0m\u001b[1;33m)\u001b[0m\u001b[1;33m\u001b[0m\u001b[1;33m\u001b[0m\u001b[0m\n\u001b[0m\u001b[0;32m    177\u001b[0m \u001b[1;33m\u001b[0m\u001b[0m\n\u001b[0;32m    178\u001b[0m                 \u001b[1;32mif\u001b[0m \u001b[1;32mnot\u001b[0m \u001b[0mfound\u001b[0m\u001b[1;33m:\u001b[0m\u001b[1;33m\u001b[0m\u001b[1;33m\u001b[0m\u001b[0m\n",
      "\u001b[1;32m~\\snap_github\\Fake-news\\$$slapp$$\\ObserverSwarm.py\u001b[0m in \u001b[0;36m<module>\u001b[1;34m\u001b[0m\n",
      "\u001b[1;32m~\\snap_github\\Fake-news\\Fake-news\\oActions.py\u001b[0m in \u001b[0;36msaveData\u001b[1;34m()\u001b[0m\n\u001b[0;32m     66\u001b[0m \u001b[1;32mdef\u001b[0m \u001b[0msaveData\u001b[0m\u001b[1;33m(\u001b[0m\u001b[1;33m)\u001b[0m\u001b[1;33m:\u001b[0m\u001b[1;33m\u001b[0m\u001b[1;33m\u001b[0m\u001b[0m\n\u001b[0;32m     67\u001b[0m \u001b[1;33m\u001b[0m\u001b[0m\n\u001b[1;32m---> 68\u001b[1;33m     \u001b[0mdataset\u001b[0m \u001b[1;33m=\u001b[0m \u001b[0mpd\u001b[0m\u001b[1;33m.\u001b[0m\u001b[0mDataFrame\u001b[0m\u001b[1;33m.\u001b[0m\u001b[0mfrom_dict\u001b[0m\u001b[1;33m(\u001b[0m\u001b[0mcommon\u001b[0m\u001b[1;33m.\u001b[0m\u001b[0mall_parameters\u001b[0m\u001b[1;33m)\u001b[0m\u001b[1;33m\u001b[0m\u001b[1;33m\u001b[0m\u001b[0m\n\u001b[0m\u001b[0;32m     69\u001b[0m     \u001b[0mdataset\u001b[0m\u001b[1;33m.\u001b[0m\u001b[0mto_csv\u001b[0m\u001b[1;33m(\u001b[0m\u001b[1;34m\"data.csv\"\u001b[0m\u001b[1;33m,\u001b[0m \u001b[0mindex\u001b[0m\u001b[1;33m=\u001b[0m\u001b[1;32mFalse\u001b[0m\u001b[1;33m)\u001b[0m\u001b[1;33m\u001b[0m\u001b[1;33m\u001b[0m\u001b[0m\n",
      "\u001b[1;31mNameError\u001b[0m: name 'pd' is not defined"
     ]
    }
   ],
   "source": [
    "%run runShell.py"
   ]
  },
  {
   "cell_type": "markdown",
   "metadata": {},
   "source": [
    "- To launch a new projet use again the ▶︎****|**** button (or Shift+Enter), but only after restarting the kernel with the ⟳ button. Choosing **Kernel/Restart & Clear Output** you also have a clean restart."
   ]
  }
 ],
 "metadata": {
  "kernelspec": {
   "display_name": "Python 3",
   "language": "python",
   "name": "python3"
  },
  "language_info": {
   "codemirror_mode": {
    "name": "ipython",
    "version": 3
   },
   "file_extension": ".py",
   "mimetype": "text/x-python",
   "name": "python",
   "nbconvert_exporter": "python",
   "pygments_lexer": "ipython3",
   "version": "3.7.6"
  }
 },
 "nbformat": 4,
 "nbformat_minor": 2
}
