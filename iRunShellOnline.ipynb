{
 "cells": [
  {
   "cell_type": "code",
   "execution_count": null,
   "metadata": {
    "scrolled": true
   },
   "outputs": [
    {
     "name": "stdout",
     "output_type": "stream",
     "text": [
      "\n",
      "SLAPP v3.3.8 build 20200411\n",
      "\n",
      "path and project = C:\\Users\\Alessandro\\snap_github\\Fake-news\\Fake-news\n",
      "SLAPP starting without any matplotlib magic command\n",
      "'%matplotlib inline' magic command NOW SET\n",
      "running in IPython\n",
      "debug = False\n",
      "Matplotlib version 3.1.3 running\n",
      "\n",
      "No 'bland' agents\n",
      "X size of the world not relevant\n",
      "y size of the world not relevant\n",
      "How many cycles? (0 = exit) 3\n",
      "\n",
      "Agents and their classes\n",
      "agents voters have class Agent\n",
      "agents left_bots have class Agent\n",
      "agents right_bots have class Agent\n",
      "agents left_broadcasters have class Agent\n",
      "agents breitbart have class Agent\n",
      "'bland' agents, if any, have always class Agent\n",
      "\n",
      "Warning: operating sets not found.\n",
      "\n",
      "File voters converted: .txtx => .txt\n",
      "\n",
      "File left_bots converted: .txtx => .txt\n",
      "\n",
      "File right_bots converted: .txtx => .txt\n",
      "\n",
      "File left_broadcasters converted: .txtx => .txt\n",
      "\n",
      "\n",
      "Forward burning probability:  0.5\n",
      "Backward burning probability:  0.18\n",
      " Network created\n",
      "Creating the network with  100000  agents.\n",
      "Voters and broadcasters:  96000\n",
      "Bots:  4000\n",
      "\n",
      "#### Project C:\\Users\\Alessandro\\snap_github\\Fake-news\\Fake-news starting.\n",
      "\n",
      "Time = 1\n",
      "methodProbabilities = {'bot_create_news': [0.001]}\n",
      "Time = 2\n",
      "Time = 3\n",
      "Agent  79726  of type  voters  creating news  0  with score  0.7507253517335535\n",
      "Agent  18683  of type  voters  creating news  1  with score  0.44451743548130085\n",
      "Agent  502  of type  voters  creating news  2  with score  0.010134553980476258\n",
      "Agent  57919  of type  voters  creating news  3  with score  0.5963488738847916\n",
      "Agent  93551  of type  voters  creating news  4  with score  0.8574901485675979\n",
      "Agent  10980  of type  voters  creating news  5  with score  0.2547493351658459\n",
      "Agent  3139  of type  voters  creating news  6  with score  0.18705365065755408\n",
      "Agent  7673  of type  voters  creating news  7  with score  0.12679116223847686\n",
      "Agent  27528  of type  voters  creating news  8  with score  0.47369809427191\n",
      "Agent  903  of type  voters  creating news  9  with score  0.05885693193802632\n",
      "Agent  96283  of type  left_bots  creating news  10  with score  0.8820622548873164\n",
      "Agent  97557  of type  right_bots  creating news  11  with score  0.02067132416718405\n",
      "Agent  98261  of type  right_bots  creating news  12  with score  0.02954942861478839\n",
      "Agent  0  of type  breitbart  creating news  13  with score  0.02\n"
     ]
    }
   ],
   "source": [
    "%run runShell.py"
   ]
  },
  {
   "cell_type": "markdown",
   "metadata": {},
   "source": [
    "- To launch a new projet use again the ▶︎****|**** button (or Shift+Enter), but only after restarting the kernel with the ⟳ button. Choosing **Kernel/Restart & Clear Output** you also have a clean restart."
   ]
  }
 ],
 "metadata": {
  "kernelspec": {
   "display_name": "Python 3",
   "language": "python",
   "name": "python3"
  },
  "language_info": {
   "codemirror_mode": {
    "name": "ipython",
    "version": 3
   },
   "file_extension": ".py",
   "mimetype": "text/x-python",
   "name": "python",
   "nbconvert_exporter": "python",
   "pygments_lexer": "ipython3",
   "version": "3.7.6"
  }
 },
 "nbformat": 4,
 "nbformat_minor": 2
}
