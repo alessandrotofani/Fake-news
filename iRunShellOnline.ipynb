{
 "cells": [
  {
   "cell_type": "code",
   "execution_count": null,
   "metadata": {
    "scrolled": true
   },
   "outputs": [
    {
     "name": "stdout",
     "output_type": "stream",
     "text": [
      "Project name? Fake-news\n",
      "SLAPP starting without any matplotlib magic command\n",
      "'%matplotlib inline' magic command NOW SET\n",
      "running in IPython\n",
      "debug = False\n",
      "Matplotlib version 3.1.3 running\n",
      "\n",
      "No 'bland' agents\n",
      "X size of the world not relevant\n",
      "y size of the world not relevant\n",
      "How many cycles? (0 = exit) 50\n",
      "\n",
      "Agents and their classes\n",
      "agents voters have class Agent\n",
      "agents left_bots have class Agent\n",
      "agents right_bots have class Agent\n",
      "agents left_broadcasters have class Agent\n",
      "agents breitbart have class Agent\n",
      "'bland' agents, if any, have always class Agent\n",
      "\n",
      "Warning: operating sets not found.\n",
      "\n",
      "File voters converted: .txtx => .txt\n",
      "\n",
      "File left_bots converted: .txtx => .txt\n",
      "\n",
      "File right_bots converted: .txtx => .txt\n",
      "\n",
      "File left_broadcasters converted: .txtx => .txt\n",
      "\n",
      "\n",
      " Network created\n",
      "Creating the network with  100000  agents.\n",
      "Voters and broadcasters:  96000\n",
      "Bots:  4000\n",
      "\n",
      "#### Project ./Fake-news starting.\n",
      "\n",
      "Time = 1\n",
      "methodProbabilities = {'bot_create_news': [0.01]}\n",
      "Time = 2\n",
      "Agent  169  of type  voters  creating news  0  with score  0.07472856071130167\n",
      "Agent  751  of type  voters  creating news  1  with score  0.010917121066751434\n",
      "Agent  87740  of type  voters  creating news  2  with score  0.7784929462861594\n",
      "Agent  14558  of type  voters  creating news  3  with score  0.24137955630763783\n",
      "Agent  52654  of type  voters  creating news  4  with score  0.605314727693624\n",
      "Agent  832  of type  voters  creating news  5  with score  0.008441879399864271\n",
      "Agent  5620  of type  voters  creating news  6  with score  0.162089220851469\n",
      "Agent  3099  of type  voters  creating news  7  with score  0.14146133846691047\n",
      "Agent  13000  of type  voters  creating news  8  with score  0.2096163193332269\n",
      "Agent  586  of type  voters  creating news  9  with score  0.0961634929669356\n",
      "Agent  1940  of type  voters  creating news  10  with score  0.18854648707037316\n",
      "Agent  34208  of type  voters  creating news  11  with score  0.4507538190339744\n",
      "Agent  148  of type  voters  creating news  12  with score  0.07105530980135248\n",
      "Agent  11389  of type  voters  creating news  13  with score  0.20435811375304824\n",
      "Agent  57742  of type  voters  creating news  14  with score  0.5761832548977321\n",
      "Agent  94666  of type  voters  creating news  15  with score  0.8536427559858563\n",
      "Agent  37474  of type  voters  creating news  16  with score  0.5383339977748497\n",
      "Agent  93504  of type  voters  creating news  17  with score  0.8233208251792049\n",
      "Agent  89678  of type  voters  creating news  18  with score  0.7248771998310347\n",
      "Agent  5542  of type  voters  creating news  19  with score  0.17403597702366758\n",
      "Agent  17891  of type  voters  creating news  20  with score  0.32756462658893565\n",
      "Agent  1210  of type  voters  creating news  21  with score  0.15073021038442694\n",
      "Agent  96780  of type  left_bots  creating news  22  with score  0.8052830077840567\n",
      "Agent  96390  of type  left_bots  creating news  23  with score  0.8846695885655458\n",
      "Agent  96585  of type  left_bots  creating news  24  with score  0.8408034692345896\n",
      "Agent  96368  of type  left_bots  creating news  25  with score  0.8911161711902713\n",
      "Agent  96336  of type  left_bots  creating news  26  with score  0.8890452757952994\n",
      "Agent  96533  of type  left_bots  creating news  27  with score  0.8201773528389088\n",
      "Agent  96310  of type  left_bots  creating news  28  with score  0.8005482776148797\n",
      "Agent  96035  of type  left_bots  creating news  29  with score  0.8252103160662158\n",
      "Agent  96567  of type  left_bots  creating news  30  with score  0.874136907487923\n",
      "Agent  99890  of type  right_bots  creating news  31  with score  0.09358853553049486\n",
      "Agent  98446  of type  right_bots  creating news  32  with score  0.024050175545981503\n",
      "Agent  98270  of type  right_bots  creating news  33  with score  0.059992625066566024\n",
      "Agent  98413  of type  right_bots  creating news  34  with score  0.02282208097803251\n",
      "Agent  99319  of type  right_bots  creating news  35  with score  0.08138046545693632\n",
      "Agent  98220  of type  right_bots  creating news  36  with score  0.052422062688756405\n",
      "Agent  99967  of type  right_bots  creating news  37  with score  0.0058863491459024255\n",
      "Agent  99275  of type  right_bots  creating news  38  with score  0.07967283861908336\n",
      "Agent  99958  of type  right_bots  creating news  39  with score  0.0026265920923454478\n",
      "Agent  98688  of type  right_bots  creating news  40  with score  0.005402377095103783\n",
      "Agent  98551  of type  right_bots  creating news  41  with score  0.07102591811874033\n",
      "Agent  98541  of type  right_bots  creating news  42  with score  0.09716991443741269\n",
      "Agent  99464  of type  right_bots  creating news  43  with score  0.0014015364646679297\n",
      "Agent  97416  of type  right_bots  creating news  44  with score  0.006573865502539156\n",
      "Agent  99951  of type  right_bots  creating news  45  with score  0.0775594062254415\n",
      "Agent  97009  of type  right_bots  creating news  46  with score  0.09885433871604783\n",
      "Agent  97228  of type  right_bots  creating news  47  with score  0.03246941110566807\n",
      "Agent  98157  of type  right_bots  creating news  48  with score  0.09306448511681463\n",
      "Agent  97083  of type  right_bots  creating news  49  with score  0.09299694353200061\n",
      "Agent  99818  of type  right_bots  creating news  50  with score  0.07379747529529618\n",
      "Agent  0  of type  breitbart  creating news  51  with score  0.02\n"
     ]
    }
   ],
   "source": [
    "%run runShell.py"
   ]
  },
  {
   "cell_type": "markdown",
   "metadata": {},
   "source": [
    "- To launch a new projet use again the ▶︎****|**** button (or Shift+Enter), but only after restarting the kernel with the ⟳ button. Choosing **Kernel/Restart & Clear Output** you also have a clean restart."
   ]
  }
 ],
 "metadata": {
  "kernelspec": {
   "display_name": "Python 3",
   "language": "python",
   "name": "python3"
  },
  "language_info": {
   "codemirror_mode": {
    "name": "ipython",
    "version": 3
   },
   "file_extension": ".py",
   "mimetype": "text/x-python",
   "name": "python",
   "nbconvert_exporter": "python",
   "pygments_lexer": "ipython3",
   "version": "3.7.6"
  }
 },
 "nbformat": 4,
 "nbformat_minor": 2
}
