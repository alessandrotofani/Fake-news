{
 "cells": [
  {
   "cell_type": "code",
   "execution_count": 1,
   "metadata": {
    "scrolled": true
   },
   "outputs": [
    {
     "name": "stdout",
     "output_type": "stream",
     "text": [
      "\n",
      "SLAPP v3.3.8 build 20200411\n",
      "\n",
      "Project name? Fake-news\n",
      "SLAPP starting without any matplotlib magic command\n",
      "'%matplotlib inline' magic command NOW SET\n",
      "running in IPython\n",
      "debug = False\n",
      "Matplotlib version 3.1.3 running\n",
      "\n",
      "No 'bland' agents\n",
      "X size of the world not relevant\n",
      "y size of the world not relevant\n",
      "How many cycles? (0 = exit) 3\n",
      "\n",
      "Agents and their classes\n",
      "agents voters have class Agent\n",
      "agents left_bots have class Agent\n",
      "agents right_bots have class Agent\n",
      "agents left_broadcasters have class Agent\n",
      "agents breitbart have class Agent\n",
      "'bland' agents, if any, have always class Agent\n",
      "\n",
      "Warning: operating sets not found.\n",
      "\n",
      "File voters converted: .txtx => .txt\n",
      "\n",
      "File left_bots converted: .txtx => .txt\n",
      "\n",
      "File right_bots converted: .txtx => .txt\n",
      "\n",
      "File left_broadcasters converted: .txtx => .txt\n",
      "\n",
      "\n",
      " Network created\n",
      "Creating the network with  100000  agents.\n",
      "Voters and broadcasters:  96000\n",
      "Bots:  4000\n",
      "\n",
      "#### Project ./Fake-news starting.\n",
      "\n",
      "Time = 1\n",
      "methodProbabilities = {'bot_create_news': [0.001]}\n",
      "Time = 2\n",
      "Agent  6739  of type  voters  creating news  0  with score  0.1361144418418195\n",
      "Agent  69173  of type  voters  creating news  1  with score  0.6293819610982472\n",
      "Agent  13206  of type  voters  creating news  2  with score  0.273546706787376\n",
      "Agent  1636  of type  voters  creating news  3  with score  0.15104992678432116\n",
      "Agent  17480  of type  voters  creating news  4  with score  0.43143494547104577\n",
      "Agent  93420  of type  voters  creating news  5  with score  0.8123585183835726\n",
      "Agent  78523  of type  voters  creating news  6  with score  0.7309894345707275\n",
      "Agent  36359  of type  voters  creating news  7  with score  0.5011307466647954\n",
      "Agent  500  of type  voters  creating news  8  with score  0.018251771469227185\n",
      "Agent  490  of type  voters  creating news  9  with score  0.06725331200748683\n",
      "Agent  96230  of type  left_bots  creating news  10  with score  0.8084941538042415\n",
      "Agent  96522  of type  left_bots  creating news  11  with score  0.833296324485558\n",
      "Agent  96525  of type  left_bots  creating news  12  with score  0.806893847032381\n",
      "Agent  96391  of type  left_bots  creating news  13  with score  0.8685284026216875\n",
      "Agent  99626  of type  right_bots  creating news  14  with score  0.05798376649860887\n",
      "Agent  99653  of type  right_bots  creating news  15  with score  0.025267376569807577\n",
      "Agent  98154  of type  right_bots  creating news  16  with score  0.01632566087322448\n",
      "Agent  0  of type  breitbart  creating news  17  with score  0.02\n",
      "Time = 3\n",
      "Agent  2709  of type  voters  creating news  18  with score  0.15437683939690963\n",
      "Agent  5797  of type  voters  creating news  19  with score  0.14930989574924364\n",
      "Agent  58  of type  voters  creating news  20  with score  0.029647611301530766\n",
      "Agent  647  of type  voters  creating news  21  with score  0.0318790448870793\n",
      "Agent  77889  of type  voters  creating news  22  with score  0.7507196841565545\n",
      "Agent  91348  of type  voters  creating news  23  with score  0.8780332975189906\n",
      "Agent  25442  of type  voters  creating news  24  with score  0.5093950625808372\n",
      "Agent  54918  of type  voters  creating news  25  with score  0.6844828936996464\n",
      "Agent  8433  of type  voters  creating news  26  with score  0.28140478433668237\n",
      "Agent  22305  of type  voters  creating news  27  with score  0.35531417029559687\n",
      "Agent  96872  of type  left_bots  creating news  28  with score  0.8554450601460585\n",
      "Agent  96954  of type  left_bots  creating news  29  with score  0.8393120071032418\n",
      "Agent  96464  of type  left_bots  creating news  30  with score  0.8539790255050631\n",
      "Agent  99229  of type  right_bots  creating news  31  with score  0.032244181692786845\n",
      "Agent  98363  of type  right_bots  creating news  32  with score  0.056083210463111245\n",
      "Agent  97526  of type  right_bots  creating news  33  with score  0.02802274485126882\n",
      "Agent  97781  of type  right_bots  creating news  34  with score  0.048114079991954134\n",
      "Agent  98704  of type  right_bots  creating news  35  with score  0.04347715021294374\n",
      "Agent  0  of type  breitbart  creating news  36  with score  0.02\n",
      "Time = 4\n",
      "enter to conclude\n",
      "End of the run! TO RUN AGAIN IN JUPYTER REMEMBER TO RESTART THE KERNEL\n"
     ]
    }
   ],
   "source": [
    "%run runShell.py"
   ]
  },
  {
   "cell_type": "markdown",
   "metadata": {},
   "source": [
    "- To launch a new projet use again the ▶︎****|**** button (or Shift+Enter), but only after restarting the kernel with the ⟳ button. Choosing **Kernel/Restart & Clear Output** you also have a clean restart."
   ]
  }
 ],
 "metadata": {
  "kernelspec": {
   "display_name": "Python 3",
   "language": "python",
   "name": "python3"
  },
  "language_info": {
   "codemirror_mode": {
    "name": "ipython",
    "version": 3
   },
   "file_extension": ".py",
   "mimetype": "text/x-python",
   "name": "python",
   "nbconvert_exporter": "python",
   "pygments_lexer": "ipython3",
   "version": "3.7.6"
  }
 },
 "nbformat": 4,
 "nbformat_minor": 2
}
