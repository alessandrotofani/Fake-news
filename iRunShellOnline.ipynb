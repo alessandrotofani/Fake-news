{
 "cells": [
  {
   "cell_type": "markdown",
   "metadata": {},
   "source": [
    "To start a project, press the button ▶︎****|**** (or Shift+Enter), paying attention to the cursor: it has to be in the cell below.\n",
    "\n",
    "Projects you can choose:\n",
    "\n",
    "* **basic**, documented in the [*Reference Handbook*](https://terna.github.io/SLAPP3/SLAPP_Reference_Handbook.pdf);\n",
    "* **basicConfParser**, documented in the [*Reference Handbook*](https://terna.github.io/SLAPP3/SLAPP_Reference_Handbook.pdf), in Section *An option: adopting the INI file format for parameter input*;\n",
    "* **basic2classes**, documented in the [*Reference Handbook*](https://terna.github.io/SLAPP3/SLAPP_Reference_Handbook.pdf);\n",
    "* **basic2D**, documented in the [*Reference Handbook*](https://terna.github.io/SLAPP3/SLAPP_Reference_Handbook.pdf);\n",
    "* **basic3D**, documented in the [*Reference Handbook*](https://terna.github.io/SLAPP3/SLAPP_Reference_Handbook.pdf);\n",
    "* **debug**, documented in the [*Reference Handbook*](https://terna.github.io/SLAPP3/SLAPP_Reference_Handbook.pdf);\n",
    "* **production**, documented in [Boero et al. (2015)](http://www.palgrave.com/it/book/9781137339805) book;\n",
    "* **oligopoly**, version *6book*, documented at [https://github.com/terna/oligopoly](https://github.com/terna/oligopoly), where you can also find other versions;\n",
    "* we have also the **school** project, documented in [Boero et al. (2015)](http://www.palgrave.com/it/book/9781137339805) book, but within [Binder](http://mybinder.org) it raises an error, being *turtle* based (turtle Python class reqires tkinter, not consistent with Jupyter \"%matplotlib inline\" magic command); to run it, you have to download and install locally SLAPP, from [https://github.com/terna/SLAPP3](https://github.com/terna/SLAPP3)."
   ]
  },
  {
   "cell_type": "code",
   "execution_count": 1,
   "metadata": {},
   "outputs": [
    {
     "name": "stdout",
     "output_type": "stream",
     "text": [
      "\n",
      "SLAPP v3.3.8 build 20200411\n",
      "\n",
      "path and project = C:\\Users\\fabri\\OneDrive\\Desktop\\SLAPP3-master\\6 objectSwarmObserverAgents_AESOP_turtleLib_NetworkX\\Fake-news\n",
      "SLAPP starting without any matplotlib magic command\n",
      "'%matplotlib inline' magic command NOW SET\n",
      "running in IPython\n",
      "debug = False\n",
      "Matplotlib version 3.1.3 running\n",
      "\n",
      "No 'bland' agents\n",
      "X size of the world not relevant\n",
      "y size of the world not relevant\n",
      "How many cycles? (0 = exit) 5\n",
      "\n",
      "Agents and their classes\n",
      "agents voters have class Agent\n",
      "agents left_bots have class Agent\n",
      "agents right_bots have class Agent\n",
      "agents left_broadcasters have class Agent\n",
      "agents breitbart have class Agent\n",
      "'bland' agents, if any, have always class Agent\n",
      "\n",
      "Warning: operating sets not found.\n",
      "\n",
      "File voters converted: .txtx => .txt\n",
      "\n",
      "File left_bots converted: .txtx => .txt\n",
      "\n",
      "File right_bots converted: .txtx => .txt\n",
      "\n",
      "File left_broadcasters converted: .txtx => .txt\n",
      "\n",
      "\n",
      " Network created\n",
      "Creating the network with  100000  agents.\n",
      "Voters and broadcasters:  96000\n",
      "Bots:  4000\n",
      "\n",
      "#### Project C:\\Users\\fabri\\OneDrive\\Desktop\\SLAPP3-master\\6 objectSwarmObserverAgents_AESOP_turtleLib_NetworkX\\Fake-news starting.\n",
      "\n",
      "Time = 1\n",
      "methodProbabilities = {'bot_create_news': [0.001]}\n",
      "Time = 2\n",
      "Agent  32368  of type  voters  creating news  0  with score  0.5037175258921014\n",
      "Agent  81472  of type  voters  creating news  1  with score  0.7275974953021285\n",
      "Agent  38533  of type  voters  creating news  2  with score  0.5277880268599899\n",
      "Agent  97277  of type  right_bots  creating news  3  with score  0.042235153612091306\n",
      "Agent  99734  of type  right_bots  creating news  4  with score  0.06918454389620435\n",
      "Agent  97009  of type  right_bots  creating news  5  with score  0.07310152133093392\n",
      "Agent  98003  of type  right_bots  creating news  6  with score  0.09220961196512123\n",
      "Agent  0  of type  breitbart  creating news  7  with score  0.02\n",
      "Time = 3\n",
      "Agent  81786  of type  voters  creating news  8  with score  0.7190916788894504\n",
      "Agent  2262  of type  voters  creating news  9  with score  0.11716401052253836\n",
      "Agent  37701  of type  voters  creating news  10  with score  0.4603837343993835\n",
      "Agent  96117  of type  left_bots  creating news  11  with score  0.8643104931174996\n",
      "Agent  98939  of type  right_bots  creating news  12  with score  0.09161385690091228\n",
      "Agent  99090  of type  right_bots  creating news  13  with score  0.04711928462310203\n",
      "Agent  98153  of type  right_bots  creating news  14  with score  0.03449945800062193\n",
      "Agent  99599  of type  right_bots  creating news  15  with score  0.06830317896674094\n",
      "Agent  98694  of type  right_bots  creating news  16  with score  0.038912263119719986\n",
      "Agent  0  of type  breitbart  creating news  17  with score  0.02\n",
      "Time = 4\n",
      "Agent  30507  of type  voters  creating news  18  with score  0.5356327241191842\n",
      "Agent  92700  of type  voters  creating news  19  with score  0.8724268227423658\n",
      "Agent  30743  of type  voters  creating news  20  with score  0.4593864207005839\n",
      "Agent  96706  of type  left_bots  creating news  21  with score  0.8027141203540386\n",
      "Agent  96082  of type  left_bots  creating news  22  with score  0.8931678099979422\n",
      "Agent  96028  of type  left_bots  creating news  23  with score  0.8320214173093254\n",
      "Agent  96396  of type  left_bots  creating news  24  with score  0.8760885029064394\n",
      "Agent  99449  of type  right_bots  creating news  25  with score  0.08691335427569273\n",
      "Agent  98683  of type  right_bots  creating news  26  with score  0.005653175285599743\n",
      "Agent  97179  of type  right_bots  creating news  27  with score  0.07757878131095136\n",
      "Agent  97369  of type  right_bots  creating news  28  with score  0.03757692501255991\n",
      "Agent  0  of type  breitbart  creating news  29  with score  0.02\n",
      "Time = 5\n",
      "Agent  43750  of type  voters  creating news  30  with score  0.5016646168059352\n",
      "Agent  94611  of type  voters  creating news  31  with score  0.8353492569999571\n",
      "Agent  63202  of type  voters  creating news  32  with score  0.6915581636620625\n",
      "Agent  96683  of type  left_bots  creating news  33  with score  0.8731290316369138\n",
      "Agent  98292  of type  right_bots  creating news  34  with score  0.05648249285582757\n",
      "Agent  97836  of type  right_bots  creating news  35  with score  0.004735650272974523\n",
      "Agent  98943  of type  right_bots  creating news  36  with score  0.05251730075681663\n",
      "Agent  0  of type  breitbart  creating news  37  with score  0.02\n",
      "Time = 6\n",
      "enter to conclude\n",
      "End of the run! TO RUN AGAIN IN JUPYTER REMEMBER TO RESTART THE KERNEL\n"
     ]
    }
   ],
   "source": [
    "%run runShell.py"
   ]
  },
  {
   "cell_type": "markdown",
   "metadata": {},
   "source": [
    "- To launch a new projet use again the ▶︎****|**** button (or Shift+Enter), but only after restarting the kernel with the ⟳ button. Choosing **Kernel/Restart & Clear Output** you also have a clean restart."
   ]
  }
 ],
 "metadata": {
  "kernelspec": {
   "display_name": "Python 3",
   "language": "python",
   "name": "python3"
  },
  "language_info": {
   "codemirror_mode": {
    "name": "ipython",
    "version": 3
   },
   "file_extension": ".py",
   "mimetype": "text/x-python",
   "name": "python",
   "nbconvert_exporter": "python",
   "pygments_lexer": "ipython3",
   "version": "3.7.7"
  }
 },
 "nbformat": 4,
 "nbformat_minor": 2
}
