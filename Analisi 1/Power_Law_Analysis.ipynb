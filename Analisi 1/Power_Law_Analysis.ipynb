{
 "cells": [
  {
   "cell_type": "code",
   "execution_count": 1,
   "metadata": {
    "scrolled": true
   },
   "outputs": [],
   "source": [
    "import networkx as nx\n",
    "import seaborn as sns\n",
    "import numpy as np\n",
    "import pandas as pd\n",
    "from operator import itemgetter"
   ]
  },
  {
   "cell_type": "code",
   "execution_count": 2,
   "metadata": {},
   "outputs": [],
   "source": [
    "import powerlaw as pwl\n",
    "from collections import Counter\n",
    "import glob"
   ]
  },
  {
   "cell_type": "code",
   "execution_count": 3,
   "metadata": {
    "scrolled": true
   },
   "outputs": [
    {
     "name": "stdout",
     "output_type": "stream",
     "text": [
      "Populating the interactive namespace from numpy and matplotlib\n"
     ]
    }
   ],
   "source": [
    "%pylab inline"
   ]
  },
  {
   "cell_type": "markdown",
   "metadata": {},
   "source": [
    "# PowerLaw and Scale-Free Test"
   ]
  },
  {
   "cell_type": "markdown",
   "metadata": {},
   "source": [
    "### Dataset"
   ]
  },
  {
   "cell_type": "markdown",
   "metadata": {},
   "source": [
    "The first part of our data analysis focuses on the study of the type of network we have created.\n",
    "\n",
    "We expect that our network is a scale-free network and the definition is the following:\n",
    "\n",
    "$$\\textit{\"A scale-free network is\n",
    "a network whose}$$ \n",
    "$$\\textit{degree \n",
    "distribution follows a power law.\"}$$\n",
    "\n",
    "According to this definition it's important to study the power-law distribution."
   ]
  },
  {
   "cell_type": "markdown",
   "metadata": {},
   "source": [
    "Let's start by taking the dataset from our simulations. We have 10 different dataset from 10 different simulation of our network. We set 100000 agents.\n",
    "\n",
    "For an easier manipulation in python we used .txt file."
   ]
  },
  {
   "cell_type": "code",
   "execution_count": 4,
   "metadata": {
    "scrolled": true
   },
   "outputs": [],
   "source": [
    "filepath = r\"C:\\Users\\Alessandro\\snap_github\\Fake-news\\Analisi 1\" # use your path\n",
    "all_files = glob.glob(filepath + \"/*.txt\")\n",
    "G = {}\n",
    "j = 0\n",
    "\n",
    "for filename in all_files:\n",
    "    G[j]=nx.DiGraph()\n",
    "    fh=open(filename,'r')\n",
    "    for i, line in enumerate(fh):\n",
    "        s=line.strip()\n",
    "        s=s.strip(\";\").split()\n",
    "        if (i>6) and (s[0] != 'label') and (s[0] != '}') and (s[1] != '[style=filled,'):\n",
    "            origin=int(s[0])\n",
    "            dest=int(s[2])\n",
    "            G[j].add_edge(origin,dest)\n",
    "    fh.close()\n",
    "    j += 1"
   ]
  },
  {
   "cell_type": "markdown",
   "metadata": {},
   "source": [
    "The following part checks nodes and links of our network at every simulation."
   ]
  },
  {
   "cell_type": "code",
   "execution_count": 5,
   "metadata": {
    "scrolled": true
   },
   "outputs": [
    {
     "name": "stdout",
     "output_type": "stream",
     "text": [
      "The network has 43361 nodes and 56742 links.\n"
     ]
    }
   ],
   "source": [
    "for i in range (len(G)):\n",
    "    print('The network has', len(G[i]), 'nodes and', len(G[i].edges()), 'links.')"
   ]
  },
  {
   "cell_type": "markdown",
   "metadata": {},
   "source": [
    "### Degree Distribution - Probability Mass Function"
   ]
  },
  {
   "cell_type": "markdown",
   "metadata": {},
   "source": [
    "Let's plot the degree distribution of the network. In this section we start by checking that the in-degree distribution and the out-degree distribution are not the same during the initial setting operations of the network. Clearly we will perform the plot of the probability mass function that it come from a discrete problem. It's important to keep in mind the differences between the probability density function and the probability mass function."
   ]
  },
  {
   "cell_type": "code",
   "execution_count": 6,
   "metadata": {},
   "outputs": [],
   "source": [
    "degrees_in = {}\n",
    "degrees_out = {}\n",
    "deg_distri_in = {}\n",
    "deg_distri_out = {}\n",
    "\n",
    "for i in range (len(G)):\n",
    "    degrees_in[i] = dict(G[i].in_degree()).values()\n",
    "    deg_distri_in[i] = Counter(degrees_in[i])\n",
    "    degrees_out[i] = dict(G[i].out_degree()).values()\n",
    "    deg_distri_out[i] = Counter(degrees_out[i])"
   ]
  },
  {
   "cell_type": "code",
   "execution_count": 7,
   "metadata": {},
   "outputs": [
    {
     "data": {
      "image/png": "[encoded data removed]",
      "text/plain": [
       "<Figure size 720x504 with 1 Axes>"
      ]
     },
     "metadata": {
      "needs_background": "light"
     },
     "output_type": "display_data"
    }
   ],
   "source": [
    "x_in = {}\n",
    "y_in = {}\n",
    "x_out = {}\n",
    "y_out = {}\n",
    "j = 0\n",
    "\n",
    "for filename in all_files:\n",
    "    x_in['File' + str(j)] = []\n",
    "    y_in['File' + str(j)] = []\n",
    "    x_out['File' + str(j)] = []\n",
    "    y_out['File' + str(j)] = []\n",
    "    \n",
    "    for i in sorted(deg_distri_in[j]):   \n",
    "        x_in['File' + str(j)].append(i)\n",
    "        y_in['File' + str(j)].append(deg_distri_in[j][i]/len(G[j]))\n",
    "        \n",
    "    for i in sorted(deg_distri_out[j]):\n",
    "        x_out['File' + str(j)].append(i)\n",
    "        y_out['File' + str(j)].append(deg_distri_out[j][i]/len(G[j]))\n",
    "        \n",
    "    plt.figure(figsize=(10,7))    \n",
    "    plt.plot(x_in['File' + str(j)],y_in['File' + str(j)], 'g' ,label='In-Degree Distribution')\n",
    "    plt.plot(x_out['File' + str(j)],y_out['File' + str(j)], label='Out-Degree Distribution')\n",
    "    plt.legend(loc='upper left')\n",
    "    \n",
    "    plt.xlabel('degree $k$', fontsize=18)\n",
    "    plt.ylabel('$P(k)$', fontsize=18)\n",
    "\n",
    "    plt.xticks(fontsize=14)\n",
    "    plt.yticks(fontsize=14)\n",
    "\n",
    "    plt.yscale('log')\n",
    "    plt.xscale('log')\n",
    "    plt.axis([1,10000,0.000001,1])\n",
    "    plt.show()\n",
    "    j += 1"
   ]
  },
  {
   "cell_type": "markdown",
   "metadata": {},
   "source": [
    "Now that the in-degree distribution and the out-degree distribution are not the same, we can consider every degree of a node and plot the degree distribution."
   ]
  },
  {
   "cell_type": "code",
   "execution_count": 8,
   "metadata": {
    "scrolled": true
   },
   "outputs": [],
   "source": [
    "deg = {}\n",
    "deg_distri = {}\n",
    "\n",
    "for i in range (len(G)):\n",
    "    deg[i] = dict(G[i].degree()).values()\n",
    "    deg_distri[i] = Counter(deg[i])"
   ]
  },
  {
   "cell_type": "code",
   "execution_count": 9,
   "metadata": {
    "scrolled": false
   },
   "outputs": [
    {
     "data": {
      "image/png": "[encoded data removed]",
      "text/plain": [
       "<Figure size 720x504 with 1 Axes>"
      ]
     },
     "metadata": {
      "needs_background": "light"
     },
     "output_type": "display_data"
    }
   ],
   "source": [
    "x = {}\n",
    "y = {}\n",
    "j = 0\n",
    "\n",
    "for filename in all_files:\n",
    "    x['File' + str(j)] = []\n",
    "    y['File' + str(j)] = []\n",
    "\n",
    "    for i in sorted(deg_distri[j]):   \n",
    "        x['File' + str(j)].append(i)\n",
    "        y['File' + str(j)].append(deg_distri[j][i]/len(G[j]))\n",
    "\n",
    "    plt.figure(figsize=(10,7))    \n",
    "    plt.plot(x['File' + str(j)],y['File' + str(j)])\n",
    "\n",
    "    plt.xlabel('degree $k$', fontsize=18)\n",
    "    plt.ylabel('$P(k)$', fontsize=18)\n",
    "\n",
    "    plt.xticks(fontsize=14)\n",
    "    plt.yticks(fontsize=14)\n",
    "\n",
    "    plt.yscale('log')\n",
    "    plt.xscale('log')\n",
    "    plt.axis([1,10000,0.000001,1])\n",
    "    plt.show()\n",
    "    j += 1"
   ]
  },
  {
   "cell_type": "markdown",
   "metadata": {},
   "source": [
    "### Histogram of the Probability Density Function"
   ]
  },
  {
   "cell_type": "markdown",
   "metadata": {},
   "source": [
    "Using the 'hist()' function of matplotlib we can plot the probability density distribution, choosing the number of bins. We set the binning logaritmical. \n",
    "\n",
    "We checked this distribution with the previous one."
   ]
  },
  {
   "cell_type": "code",
   "execution_count": 10,
   "metadata": {
    "scrolled": false
   },
   "outputs": [
    {
     "data": {
      "image/png": "[encoded data removed]",
      "text/plain": [
       "<Figure size 720x504 with 1 Axes>"
      ]
     },
     "metadata": {
      "needs_background": "light"
     },
     "output_type": "display_data"
    }
   ],
   "source": [
    "j = 0\n",
    "\n",
    "for filename in all_files:\n",
    "    plt.figure(figsize=(10,7))\n",
    "    plt.hist(deg[j], bins=90, density=True, log=True, histtype='stepfilled')\n",
    "    plt.plot(x['File' + str(j)],y['File' + str(j)],'black','o')\n",
    "    plt.xscale('log')\n",
    "    plt.yscale('log')\n",
    "    plt.xticks(fontsize=20)\n",
    "    plt.yticks(fontsize=22)\n",
    "    plt.xlabel('degree $k$', fontsize=22)\n",
    "    plt.ylabel('$P(k)$', fontsize=22)\n",
    "    j += 1"
   ]
  },
  {
   "cell_type": "markdown",
   "metadata": {},
   "source": [
    "At the end of the distribution the tail is very low because the probability is low.\n",
    "\n",
    "The *powerlaw* package provides direct access to the probability density function."
   ]
  },
  {
   "cell_type": "markdown",
   "metadata": {},
   "source": [
    "### Probability Density Function"
   ]
  },
  {
   "cell_type": "code",
   "execution_count": 11,
   "metadata": {
    "scrolled": true
   },
   "outputs": [],
   "source": [
    "degree = {}\n",
    "pwl_distri = {}\n",
    "j = 0\n",
    "\n",
    "for filename in all_files:\n",
    "    degree[j]=list(deg[j])\n",
    "    pwl_distri[j]=pwl.pdf(degree[j], bins=90)\n",
    "    j += 1"
   ]
  },
  {
   "cell_type": "markdown",
   "metadata": {},
   "source": [
    "Let's plot the probability density function:"
   ]
  },
  {
   "cell_type": "code",
   "execution_count": 12,
   "metadata": {
    "scrolled": false
   },
   "outputs": [
    {
     "data": {
      "image/png": "[encoded data removed]",
      "text/plain": [
       "<Figure size 720x504 with 1 Axes>"
      ]
     },
     "metadata": {
      "needs_background": "light"
     },
     "output_type": "display_data"
    }
   ],
   "source": [
    "j = 0\n",
    "\n",
    "for filename in all_files:\n",
    "    plt.figure(figsize=(10,7))\n",
    "    plt.yscale('log')\n",
    "    plt.xscale('log')\n",
    "    plt.plot(x['File' + str(j)],y['File' + str(j)],'ro')\n",
    "\n",
    "    pwl.plot_pdf(degree[j], color='black', linewidth=2)\n",
    "\n",
    "    plt.xticks(fontsize=20)\n",
    "    plt.yticks(fontsize=22)\n",
    "\n",
    "    plt.xlabel('degree $k$', fontsize=22)\n",
    "    plt.ylabel('$P(k)$', fontsize=22)\n",
    "    j += 1"
   ]
  },
  {
   "cell_type": "markdown",
   "metadata": {},
   "source": [
    "### Linear Binning"
   ]
  },
  {
   "cell_type": "markdown",
   "metadata": {},
   "source": [
    "We can evaluate the density funtion using bin with same height in a linear scale. This is important because we can understand that the density function depends only on the binning that we have chosen."
   ]
  },
  {
   "cell_type": "code",
   "execution_count": 13,
   "metadata": {
    "scrolled": false
   },
   "outputs": [
    {
     "data": {
      "image/png": "[encoded data removed]",
      "text/plain": [
       "<Figure size 720x504 with 1 Axes>"
      ]
     },
     "metadata": {
      "needs_background": "light"
     },
     "output_type": "display_data"
    }
   ],
   "source": [
    "j = 0\n",
    "\n",
    "for filename in all_files:\n",
    "    plt.figure(figsize=(10,7))\n",
    "    plt.yscale('log')\n",
    "    plt.xscale('log')\n",
    "    plt.plot(x['File' + str(j)],y['File' + str(j)],'ro')\n",
    "\n",
    "    pwl.plot_pdf(degree[j], linear_bins=True, color='black', linewidth=2)\n",
    "\n",
    "    plt.xticks(fontsize=20)\n",
    "    plt.yticks(fontsize=22)\n",
    "\n",
    "    plt.xlabel('degree $k$', fontsize=22)\n",
    "    plt.ylabel('$P(k)$', fontsize=22)\n",
    "    j += 1"
   ]
  },
  {
   "cell_type": "markdown",
   "metadata": {},
   "source": [
    "## Parameter estimation"
   ]
  },
  {
   "cell_type": "markdown",
   "metadata": {},
   "source": [
    "$p(x) \\propto x^{-\\alpha}$\n",
    "\n",
    "For our study it's important to notice that just few empirical phenomena obey power laws for all values of $x$. More often the power law applies only for values grater than some minimum $x_{min}$. In such cases we say that the tail of the distribution follows a power law.\n",
    "The library powerlaw allows to estimate the exponent $\\alpha$ and the minimum value for the scaling $x_{min}$. In real networks the exponent is between 2 and 3."
   ]
  },
  {
   "cell_type": "code",
   "execution_count": 14,
   "metadata": {
    "scrolled": true
   },
   "outputs": [
    {
     "name": "stdout",
     "output_type": "stream",
     "text": [
      "7.254910119296844 +- 0.23246190384877546\n",
      "6.0\n"
     ]
    },
    {
     "name": "stderr",
     "output_type": "stream",
     "text": [
      "Calculating best minimal value for power law fit\n",
      "D:\\Users\\Alessandro\\Programmi\\Anaconda\\lib\\site-packages\\powerlaw.py:700: RuntimeWarning: divide by zero encountered in true_divide\n",
      "  (Theoretical_CDF * (1 - Theoretical_CDF))\n",
      "D:\\Users\\Alessandro\\Programmi\\Anaconda\\lib\\site-packages\\powerlaw.py:700: RuntimeWarning: invalid value encountered in true_divide\n",
      "  (Theoretical_CDF * (1 - Theoretical_CDF))\n"
     ]
    }
   ],
   "source": [
    "fit_function = {}\n",
    "j = 0\n",
    "\n",
    "for filename in all_files:\n",
    "    fit_function[j] = pwl.Fit(degree[j])\n",
    "    \n",
    "    print(fit_function[j].power_law.alpha, '+-', fit_function[j].sigma)\n",
    "    print(fit_function[j].power_law.xmin)\n",
    "    j += 1"
   ]
  },
  {
   "cell_type": "markdown",
   "metadata": {},
   "source": [
    "We can look at the values of the [Kolgomorov-Sminorv distance](https://en.wikipedia.org/wiki/Kolmogorov%E2%80%93Smirnov_test) of the two fits to compare them. Smaller distances correspond to better fits."
   ]
  },
  {
   "cell_type": "code",
   "execution_count": 15,
   "metadata": {
    "scrolled": true
   },
   "outputs": [
    {
     "name": "stdout",
     "output_type": "stream",
     "text": [
      "The exponent is: 4.128599320393199 +- 0.06503816347761825\n",
      "The Distances are:\n",
      "Without rescaling -> 0.11456772951816419\n",
      "With rescaling -> 0.1985382457146625\n",
      "\n",
      "\n"
     ]
    }
   ],
   "source": [
    "j = 0\n",
    "fit_function_fixmin = {}\n",
    "\n",
    "for filename in all_files:\n",
    "    fit_function_fixmin[j] = pwl.Fit(degree[j], xmin=3)\n",
    "    print('The exponent is:', fit_function_fixmin[j].power_law.alpha, '+-', fit_function_fixmin[j].sigma)\n",
    "    print('The Distances are:')\n",
    "    print('Without rescaling ->', fit_function[j].power_law.D)\n",
    "    print('With rescaling ->', fit_function_fixmin[j].power_law.D)\n",
    "    print('\\n')\n",
    "    j += 1"
   ]
  },
  {
   "cell_type": "markdown",
   "metadata": {},
   "source": [
    "### PowerLaw with Statistics"
   ]
  },
  {
   "cell_type": "code",
   "execution_count": 16,
   "metadata": {},
   "outputs": [],
   "source": [
    "sum_all = Counter()\n",
    "\n",
    "for i in range (len(G)):\n",
    "    sum_all += deg_distri[i]"
   ]
  },
  {
   "cell_type": "code",
   "execution_count": 17,
   "metadata": {},
   "outputs": [],
   "source": [
    "x_final = []\n",
    "count_final = []\n",
    "y_final = []\n",
    "j = 0\n",
    "\n",
    "for i in sorted(sum_all):   \n",
    "    x_final.append(i)\n",
    "    count_final.append(sum_all[i])\n",
    "    y_final.append(sum_all[i]/len(G[0]))"
   ]
  },
  {
   "cell_type": "code",
   "execution_count": 18,
   "metadata": {},
   "outputs": [
    {
     "data": {
      "image/png": "[encoded data removed]",
      "text/plain": [
       "<Figure size 1440x1440 with 1 Axes>"
      ]
     },
     "metadata": {
      "needs_background": "light"
     },
     "output_type": "display_data"
    }
   ],
   "source": [
    "plt.figure(figsize=(20,20))\n",
    "plt.bar(x_final,count_final,align='center') # A bar chart\n",
    "plt.xlabel('Degree K')\n",
    "plt.ylabel('Counts')\n",
    "plt.xlim(xmin=0, xmax = 1000)\n",
    "plt.ylim(ymin=0, ymax = 1000)\n",
    "plt.show()"
   ]
  },
  {
   "cell_type": "code",
   "execution_count": 19,
   "metadata": {},
   "outputs": [
    {
     "data": {
      "image/png": "[encoded data removed]",
      "text/plain": [
       "<Figure size 720x504 with 1 Axes>"
      ]
     },
     "metadata": {
      "needs_background": "light"
     },
     "output_type": "display_data"
    }
   ],
   "source": [
    "plt.figure(figsize=(10,7))    \n",
    "plt.plot(x_final,y_final)\n",
    "\n",
    "plt.xlabel('degree $k$', fontsize=18)\n",
    "plt.ylabel('$P(k)$', fontsize=18)\n",
    "\n",
    "plt.xticks(fontsize=14)\n",
    "plt.yticks(fontsize=14)\n",
    "\n",
    "plt.yscale('log')\n",
    "plt.xscale('log')\n",
    "plt.axis([1,10000,0.000001,1])\n",
    "plt.show()"
   ]
  },
  {
   "cell_type": "code",
   "execution_count": 20,
   "metadata": {},
   "outputs": [],
   "source": [
    "sum_final = []\n",
    "\n",
    "for key, value in sum_all.items():\n",
    "    if value > 1:\n",
    "        for i in range (value):\n",
    "            sum_final.append(key)\n",
    "    else:\n",
    "        sum_final.append(key)"
   ]
  },
  {
   "cell_type": "code",
   "execution_count": 21,
   "metadata": {},
   "outputs": [
    {
     "name": "stderr",
     "output_type": "stream",
     "text": [
      "Calculating best minimal value for power law fit\n",
      "D:\\Users\\Alessandro\\Programmi\\Anaconda\\lib\\site-packages\\powerlaw.py:700: RuntimeWarning: divide by zero encountered in true_divide\n",
      "  (Theoretical_CDF * (1 - Theoretical_CDF))\n",
      "D:\\Users\\Alessandro\\Programmi\\Anaconda\\lib\\site-packages\\powerlaw.py:700: RuntimeWarning: invalid value encountered in true_divide\n",
      "  (Theoretical_CDF * (1 - Theoretical_CDF))\n"
     ]
    },
    {
     "data": {
      "text/plain": [
       "<powerlaw.Power_Law at 0x14e28ac6808>"
      ]
     },
     "execution_count": 21,
     "metadata": {},
     "output_type": "execute_result"
    }
   ],
   "source": [
    "fit_function_final = pwl.Fit(sum_final)\n",
    "fit_function_final\n",
    "fit_function_final.power_law"
   ]
  },
  {
   "cell_type": "code",
   "execution_count": 22,
   "metadata": {},
   "outputs": [
    {
     "name": "stdout",
     "output_type": "stream",
     "text": [
      "The exponent is: 7.254910119296844 +- 0.23246190384877546\n",
      "The Xmin is: 6.0\n"
     ]
    }
   ],
   "source": [
    "print('The exponent is:',fit_function_final.power_law.alpha, '+-', fit_function_final.sigma)\n",
    "print('The Xmin is:',fit_function_final.power_law.xmin)"
   ]
  },
  {
   "cell_type": "markdown",
   "metadata": {},
   "source": [
    "We fix the minimum value for the scaling $x_{min}=10$"
   ]
  },
  {
   "cell_type": "code",
   "execution_count": 23,
   "metadata": {},
   "outputs": [],
   "source": [
    "fit_function_fixmin = pwl.Fit(sum_final, xmin=100)"
   ]
  },
  {
   "cell_type": "code",
   "execution_count": 24,
   "metadata": {},
   "outputs": [
    {
     "name": "stdout",
     "output_type": "stream",
     "text": [
      "The new Xmin is: 100.0\n",
      "The exponent is: 1.3693780619500484 +- 0.13059486621321192\n",
      "The Distances are:\n",
      "Without rescaling -> 0.11456772951816419\n",
      "With rescaling -> 0.2701478167749274\n"
     ]
    }
   ],
   "source": [
    "print('The new Xmin is:',fit_function_fixmin.xmin)\n",
    "print('The exponent is:', fit_function_fixmin.power_law.alpha, '+-', fit_function_fixmin.sigma)\n",
    "print('The Distances are:')\n",
    "print('Without rescaling ->',fit_function_final.power_law.D)\n",
    "print('With rescaling ->',fit_function_fixmin.power_law.D)"
   ]
  }
 ],
 "metadata": {
  "kernelspec": {
   "display_name": "Python 3",
   "language": "python",
   "name": "python3"
  },
  "language_info": {
   "codemirror_mode": {
    "name": "ipython",
    "version": 3
   },
   "file_extension": ".py",
   "mimetype": "text/x-python",
   "name": "python",
   "nbconvert_exporter": "python",
   "pygments_lexer": "ipython3",
   "version": "3.7.6"
  }
 },
 "nbformat": 4,
 "nbformat_minor": 4
}
